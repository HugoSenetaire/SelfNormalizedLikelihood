{
 "cells": [
  {
   "cell_type": "code",
   "execution_count": 150,
   "metadata": {},
   "outputs": [
    {
     "name": "stdout",
     "output_type": "stream",
     "text": [
      "The autoreload extension is already loaded. To reload it, use:\n",
      "  %reload_ext autoreload\n"
     ]
    }
   ],
   "source": [
    "%load_ext autoreload\n",
    "%autoreload 2"
   ]
  },
  {
   "cell_type": "code",
   "execution_count": 167,
   "metadata": {},
   "outputs": [],
   "source": [
    "import torch\n",
    "import numpy as np\n",
    "import sys\n",
    "import os\n",
    "\n",
    "sys.path.append(os.path.dirname(os.path.dirname(os.getcwd())))\n",
    "current_path = os.getcwd().split(\"Model\")[0]\n",
    "from Model.ZEstimator.DistributionEstimation.ais_importance_weighted_ebm import AISZEstimator\n",
    "from Model.Energy.Distribution.ExplicitBiasForDistribution import MockBias\n",
    "from Model.Proposals.ProposalForDistributionEstimation.gaussian import Gaussian\n",
    "from hydra_config import store_main\n",
    "from hydra import compose, initialize_config_dir\n",
    "from argparse import ArgumentParser\n",
    "\n",
    "from Model.Proposals.mock_base_dist import MockBaseDist\n",
    "\n",
    "import hydra\n"
   ]
  },
  {
   "cell_type": "code",
   "execution_count": 168,
   "metadata": {},
   "outputs": [],
   "source": [
    "def clear_hydra():\n",
    "    hydra.core.global_hydra.GlobalHydra.instance().clear()\n",
    "\n",
    "def get_config(config_path = \"conf_test\", config_name = \"config\"):\n",
    "    # Test for all prior distributions\n",
    "    clear_hydra()\n",
    "    store_main()\n",
    "    print(current_path)\n",
    "    initialize_config_dir(config_dir=os.path.join(current_path, config_path), job_name=\"test_app\")\n",
    "    # initialize(config_path=config_path, job_name=\"test_app\")\n",
    "    cfg = compose(config_name=config_name, overrides=[])\n",
    "    return cfg"
   ]
  },
  {
   "cell_type": "code",
   "execution_count": null,
   "metadata": {},
   "outputs": [],
   "source": []
  },
  {
   "cell_type": "code",
   "execution_count": 175,
   "metadata": {},
   "outputs": [],
   "source": [
    "import torch.nn as nn\n",
    "class stupid_f_theta(nn.Module):\n",
    "    def __init__(self,):\n",
    "        super(stupid_f_theta, self).__init__()   \n",
    "        self.mean = nn.parameter.Parameter(torch.zeros(1,2))\n",
    "        self.cov = nn.parameter.Parameter(torch.ones(1,2))\n",
    "        dist_gaussian = torch.distributions.Normal(self.mean, self.cov)                    \n",
    "        self.f_theta = lambda x: -dist_gaussian.log_prob(x)\n",
    "    \n",
    "    # def to(self, device):\n",
    "        # self\n",
    "    def forward(self, x):\n",
    "        energy = self.f_theta(x).flatten(1).sum(-1,keepdim=True)\n",
    "        return energy\n",
    "        \n",
    "class StupidProposal(nn.Module):\n",
    "    def __init__(self):\n",
    "        super(StupidProposal, self).__init__()\n",
    "        self.mean = nn.parameter.Parameter(torch.full((1,2), 5.))\n",
    "        self.cov = nn.parameter.Parameter(torch.ones(1,2))\n",
    "        self.dist_gaussian = torch.distributions.Normal(self.mean, self.cov)\n",
    "        self.dim = 2\n",
    "\n",
    "    def sample(self, nb_sample, return_log_prob = False):\n",
    "        if not return_log_prob :\n",
    "            return self.dist_gaussian.sample((nb_sample,))\n",
    "        else :\n",
    "            samples = self.dist_gaussian.sample((nb_sample,))\n",
    "            log_probs = self.dist_gaussian.log_prob(samples).flatten(1).sum(-1,keepdim=True)\n",
    "            return samples, log_probs\n",
    "        \n",
    "    def log_prob(self, x):\n",
    "        return self.dist_gaussian.log_prob(x).flatten(1).sum(-1,keepdim=True)"
   ]
  },
  {
   "cell_type": "code",
   "execution_count": 237,
   "metadata": {},
   "outputs": [
    {
     "name": "stdout",
     "output_type": "stream",
     "text": [
      "/scratch/project/dd-23-138/SelfNormalizedLikelihood\n"
     ]
    },
    {
     "name": "stderr",
     "output_type": "stream",
     "text": [
      "/tmp/ipykernel_69392/3062668526.py:9: UserWarning: \n",
      "The version_base parameter is not specified.\n",
      "Please specify a compatability version level, or None.\n",
      "Will assume defaults for version 1.1\n",
      "  initialize_config_dir(config_dir=os.path.join(current_path, config_path), job_name=\"test_app\")\n"
     ]
    },
    {
     "name": "stdout",
     "output_type": "stream",
     "text": [
      "{'trainer_name': 'self_normalized', 'max_steps': None, 'max_epochs': 100, 'output_folder': './Results', 'load_from_checkpoint': False, 'just_test': False, 'seed': 42, 'decay_ema': None, 'task': 'distribution_estimation', 'save_dir': None, 'multi_gpu': 'single', 'val_check_interval': None, 'save_energy_every': 1, 'samples_every': 1, 'sigma': None, 'entropy_weight': 0.0001, 'log_every_n_steps': 10, 'test_every': 1, 'save_locally': False, 'start_with_IS_until': 0, 'bias_training_iter': 0, 'lr_bias': 0.001, 'noise_annealing_init': 0.0, 'noise_annealing_gamma': 0.999, 'nb_energy_steps': 0, 'plot_contour_evolution': False}\n"
     ]
    },
    {
     "ename": "ValidationError",
     "evalue": "Value '4.0' of type 'float' could not be converted to Integer\n    full_key: ebm.nb_transitions_ais\n    reference_type=BaseEBM\n    object_type=BaseAISEBM",
     "output_type": "error",
     "traceback": [
      "\u001b[0;31m---------------------------------------------------------------------------\u001b[0m",
      "\u001b[0;31mValidationError\u001b[0m                           Traceback (most recent call last)",
      "Cell \u001b[0;32mIn[237], line 23\u001b[0m\n\u001b[1;32m     21\u001b[0m \u001b[38;5;28;01melse\u001b[39;00m :\n\u001b[1;32m     22\u001b[0m     device \u001b[38;5;241m=\u001b[39m torch\u001b[38;5;241m.\u001b[39mdevice(\u001b[38;5;124m\"\u001b[39m\u001b[38;5;124mcpu\u001b[39m\u001b[38;5;124m\"\u001b[39m)\n\u001b[0;32m---> 23\u001b[0m \u001b[43mcfg\u001b[49m\u001b[38;5;241;43m.\u001b[39;49m\u001b[43mebm\u001b[49m\u001b[38;5;241;43m.\u001b[39;49m\u001b[43mnb_transitions_ais\u001b[49m \u001b[38;5;241m=\u001b[39m \u001b[38;5;241m4.0\u001b[39m\n\u001b[1;32m     24\u001b[0m cfg\u001b[38;5;241m.\u001b[39mebm\u001b[38;5;241m.\u001b[39mstep_size_ais \u001b[38;5;241m=\u001b[39m \u001b[38;5;241m1.0\u001b[39m\n\u001b[1;32m     25\u001b[0m nb_sample \u001b[38;5;241m=\u001b[39m \u001b[38;5;241m100\u001b[39m\n",
      "File \u001b[0;32m/scratch/project/dd-23-138/conda_envs/pytorch_env/lib/python3.11/site-packages/omegaconf/dictconfig.py:338\u001b[0m, in \u001b[0;36mDictConfig.__setattr__\u001b[0;34m(self, key, value)\u001b[0m\n\u001b[1;32m    336\u001b[0m \u001b[38;5;28;01mif\u001b[39;00m \u001b[38;5;28misinstance\u001b[39m(e, OmegaConfBaseException) \u001b[38;5;129;01mand\u001b[39;00m e\u001b[38;5;241m.\u001b[39m_initialized:\n\u001b[1;32m    337\u001b[0m     \u001b[38;5;28;01mraise\u001b[39;00m e\n\u001b[0;32m--> 338\u001b[0m \u001b[38;5;28;43mself\u001b[39;49m\u001b[38;5;241;43m.\u001b[39;49m\u001b[43m_format_and_raise\u001b[49m\u001b[43m(\u001b[49m\u001b[43mkey\u001b[49m\u001b[38;5;241;43m=\u001b[39;49m\u001b[43mkey\u001b[49m\u001b[43m,\u001b[49m\u001b[43m \u001b[49m\u001b[43mvalue\u001b[49m\u001b[38;5;241;43m=\u001b[39;49m\u001b[43mvalue\u001b[49m\u001b[43m,\u001b[49m\u001b[43m \u001b[49m\u001b[43mcause\u001b[49m\u001b[38;5;241;43m=\u001b[39;49m\u001b[43me\u001b[49m\u001b[43m)\u001b[49m\n\u001b[1;32m    339\u001b[0m \u001b[38;5;28;01massert\u001b[39;00m \u001b[38;5;28;01mFalse\u001b[39;00m\n",
      "File \u001b[0;32m/scratch/project/dd-23-138/conda_envs/pytorch_env/lib/python3.11/site-packages/omegaconf/base.py:231\u001b[0m, in \u001b[0;36mNode._format_and_raise\u001b[0;34m(self, key, value, cause, msg, type_override)\u001b[0m\n\u001b[1;32m    223\u001b[0m \u001b[38;5;28;01mdef\u001b[39;00m \u001b[38;5;21m_format_and_raise\u001b[39m(\n\u001b[1;32m    224\u001b[0m     \u001b[38;5;28mself\u001b[39m,\n\u001b[1;32m    225\u001b[0m     key: Any,\n\u001b[0;32m   (...)\u001b[0m\n\u001b[1;32m    229\u001b[0m     type_override: Any \u001b[38;5;241m=\u001b[39m \u001b[38;5;28;01mNone\u001b[39;00m,\n\u001b[1;32m    230\u001b[0m ) \u001b[38;5;241m-\u001b[39m\u001b[38;5;241m>\u001b[39m \u001b[38;5;28;01mNone\u001b[39;00m:\n\u001b[0;32m--> 231\u001b[0m     \u001b[43mformat_and_raise\u001b[49m\u001b[43m(\u001b[49m\n\u001b[1;32m    232\u001b[0m \u001b[43m        \u001b[49m\u001b[43mnode\u001b[49m\u001b[38;5;241;43m=\u001b[39;49m\u001b[38;5;28;43mself\u001b[39;49m\u001b[43m,\u001b[49m\n\u001b[1;32m    233\u001b[0m \u001b[43m        \u001b[49m\u001b[43mkey\u001b[49m\u001b[38;5;241;43m=\u001b[39;49m\u001b[43mkey\u001b[49m\u001b[43m,\u001b[49m\n\u001b[1;32m    234\u001b[0m \u001b[43m        \u001b[49m\u001b[43mvalue\u001b[49m\u001b[38;5;241;43m=\u001b[39;49m\u001b[43mvalue\u001b[49m\u001b[43m,\u001b[49m\n\u001b[1;32m    235\u001b[0m \u001b[43m        \u001b[49m\u001b[43mmsg\u001b[49m\u001b[38;5;241;43m=\u001b[39;49m\u001b[38;5;28;43mstr\u001b[39;49m\u001b[43m(\u001b[49m\u001b[43mcause\u001b[49m\u001b[43m)\u001b[49m\u001b[43m \u001b[49m\u001b[38;5;28;43;01mif\u001b[39;49;00m\u001b[43m \u001b[49m\u001b[43mmsg\u001b[49m\u001b[43m \u001b[49m\u001b[38;5;129;43;01mis\u001b[39;49;00m\u001b[43m \u001b[49m\u001b[38;5;28;43;01mNone\u001b[39;49;00m\u001b[43m \u001b[49m\u001b[38;5;28;43;01melse\u001b[39;49;00m\u001b[43m \u001b[49m\u001b[43mmsg\u001b[49m\u001b[43m,\u001b[49m\n\u001b[1;32m    236\u001b[0m \u001b[43m        \u001b[49m\u001b[43mcause\u001b[49m\u001b[38;5;241;43m=\u001b[39;49m\u001b[43mcause\u001b[49m\u001b[43m,\u001b[49m\n\u001b[1;32m    237\u001b[0m \u001b[43m        \u001b[49m\u001b[43mtype_override\u001b[49m\u001b[38;5;241;43m=\u001b[39;49m\u001b[43mtype_override\u001b[49m\u001b[43m,\u001b[49m\n\u001b[1;32m    238\u001b[0m \u001b[43m    \u001b[49m\u001b[43m)\u001b[49m\n\u001b[1;32m    239\u001b[0m     \u001b[38;5;28;01massert\u001b[39;00m \u001b[38;5;28;01mFalse\u001b[39;00m\n",
      "File \u001b[0;32m/scratch/project/dd-23-138/conda_envs/pytorch_env/lib/python3.11/site-packages/omegaconf/_utils.py:899\u001b[0m, in \u001b[0;36mformat_and_raise\u001b[0;34m(node, key, value, msg, cause, type_override)\u001b[0m\n\u001b[1;32m    896\u001b[0m     ex\u001b[38;5;241m.\u001b[39mref_type \u001b[38;5;241m=\u001b[39m ref_type\n\u001b[1;32m    897\u001b[0m     ex\u001b[38;5;241m.\u001b[39mref_type_str \u001b[38;5;241m=\u001b[39m ref_type_str\n\u001b[0;32m--> 899\u001b[0m \u001b[43m_raise\u001b[49m\u001b[43m(\u001b[49m\u001b[43mex\u001b[49m\u001b[43m,\u001b[49m\u001b[43m \u001b[49m\u001b[43mcause\u001b[49m\u001b[43m)\u001b[49m\n",
      "File \u001b[0;32m/scratch/project/dd-23-138/conda_envs/pytorch_env/lib/python3.11/site-packages/omegaconf/_utils.py:797\u001b[0m, in \u001b[0;36m_raise\u001b[0;34m(ex, cause)\u001b[0m\n\u001b[1;32m    795\u001b[0m \u001b[38;5;28;01melse\u001b[39;00m:\n\u001b[1;32m    796\u001b[0m     ex\u001b[38;5;241m.\u001b[39m__cause__ \u001b[38;5;241m=\u001b[39m \u001b[38;5;28;01mNone\u001b[39;00m\n\u001b[0;32m--> 797\u001b[0m \u001b[38;5;28;01mraise\u001b[39;00m ex\u001b[38;5;241m.\u001b[39mwith_traceback(sys\u001b[38;5;241m.\u001b[39mexc_info()[\u001b[38;5;241m2\u001b[39m])\n",
      "File \u001b[0;32m/scratch/project/dd-23-138/conda_envs/pytorch_env/lib/python3.11/site-packages/omegaconf/dictconfig.py:334\u001b[0m, in \u001b[0;36mDictConfig.__setattr__\u001b[0;34m(self, key, value)\u001b[0m\n\u001b[1;32m    327\u001b[0m \u001b[38;5;250m\u001b[39m\u001b[38;5;124;03m\"\"\"\u001b[39;00m\n\u001b[1;32m    328\u001b[0m \u001b[38;5;124;03mAllow assigning attributes to DictConfig\u001b[39;00m\n\u001b[1;32m    329\u001b[0m \u001b[38;5;124;03m:param key:\u001b[39;00m\n\u001b[1;32m    330\u001b[0m \u001b[38;5;124;03m:param value:\u001b[39;00m\n\u001b[1;32m    331\u001b[0m \u001b[38;5;124;03m:return:\u001b[39;00m\n\u001b[1;32m    332\u001b[0m \u001b[38;5;124;03m\"\"\"\u001b[39;00m\n\u001b[1;32m    333\u001b[0m \u001b[38;5;28;01mtry\u001b[39;00m:\n\u001b[0;32m--> 334\u001b[0m     \u001b[38;5;28;43mself\u001b[39;49m\u001b[38;5;241;43m.\u001b[39;49m\u001b[43m__set_impl\u001b[49m\u001b[43m(\u001b[49m\u001b[43mkey\u001b[49m\u001b[43m,\u001b[49m\u001b[43m \u001b[49m\u001b[43mvalue\u001b[49m\u001b[43m)\u001b[49m\n\u001b[1;32m    335\u001b[0m \u001b[38;5;28;01mexcept\u001b[39;00m \u001b[38;5;167;01mException\u001b[39;00m \u001b[38;5;28;01mas\u001b[39;00m e:\n\u001b[1;32m    336\u001b[0m     \u001b[38;5;28;01mif\u001b[39;00m \u001b[38;5;28misinstance\u001b[39m(e, OmegaConfBaseException) \u001b[38;5;129;01mand\u001b[39;00m e\u001b[38;5;241m.\u001b[39m_initialized:\n",
      "File \u001b[0;32m/scratch/project/dd-23-138/conda_envs/pytorch_env/lib/python3.11/site-packages/omegaconf/dictconfig.py:318\u001b[0m, in \u001b[0;36mDictConfig.__set_impl\u001b[0;34m(self, key, value)\u001b[0m\n\u001b[1;32m    316\u001b[0m \u001b[38;5;28;01mdef\u001b[39;00m \u001b[38;5;21m__set_impl\u001b[39m(\u001b[38;5;28mself\u001b[39m, key: DictKeyType, value: Any) \u001b[38;5;241m-\u001b[39m\u001b[38;5;241m>\u001b[39m \u001b[38;5;28;01mNone\u001b[39;00m:\n\u001b[1;32m    317\u001b[0m     key \u001b[38;5;241m=\u001b[39m \u001b[38;5;28mself\u001b[39m\u001b[38;5;241m.\u001b[39m_validate_and_normalize_key(key)\n\u001b[0;32m--> 318\u001b[0m     \u001b[38;5;28;43mself\u001b[39;49m\u001b[38;5;241;43m.\u001b[39;49m\u001b[43m_set_item_impl\u001b[49m\u001b[43m(\u001b[49m\u001b[43mkey\u001b[49m\u001b[43m,\u001b[49m\u001b[43m \u001b[49m\u001b[43mvalue\u001b[49m\u001b[43m)\u001b[49m\n",
      "File \u001b[0;32m/scratch/project/dd-23-138/conda_envs/pytorch_env/lib/python3.11/site-packages/omegaconf/basecontainer.py:604\u001b[0m, in \u001b[0;36mBaseContainer._set_item_impl\u001b[0;34m(self, key, value)\u001b[0m\n\u001b[1;32m    602\u001b[0m     \u001b[38;5;28;01mif\u001b[39;00m special_value \u001b[38;5;129;01mand\u001b[39;00m \u001b[38;5;28misinstance\u001b[39m(value, Node):\n\u001b[1;32m    603\u001b[0m         value \u001b[38;5;241m=\u001b[39m value\u001b[38;5;241m.\u001b[39m_value()\n\u001b[0;32m--> 604\u001b[0m     \u001b[38;5;28;43mself\u001b[39;49m\u001b[38;5;241;43m.\u001b[39;49m\u001b[38;5;18;43m__dict__\u001b[39;49m\u001b[43m[\u001b[49m\u001b[38;5;124;43m\"\u001b[39;49m\u001b[38;5;124;43m_content\u001b[39;49m\u001b[38;5;124;43m\"\u001b[39;49m\u001b[43m]\u001b[49m\u001b[43m[\u001b[49m\u001b[43mkey\u001b[49m\u001b[43m]\u001b[49m\u001b[38;5;241;43m.\u001b[39;49m\u001b[43m_set_value\u001b[49m\u001b[43m(\u001b[49m\u001b[43mvalue\u001b[49m\u001b[43m)\u001b[49m\n\u001b[1;32m    605\u001b[0m \u001b[38;5;28;01melif\u001b[39;00m input_is_node:\n\u001b[1;32m    606\u001b[0m     \u001b[38;5;28;01mif\u001b[39;00m (\n\u001b[1;32m    607\u001b[0m         special_value\n\u001b[1;32m    608\u001b[0m         \u001b[38;5;129;01mand\u001b[39;00m (\n\u001b[0;32m   (...)\u001b[0m\n\u001b[1;32m    613\u001b[0m         \u001b[38;5;129;01mor\u001b[39;00m is_union_annotation(target_ref_type)\n\u001b[1;32m    614\u001b[0m     ):\n",
      "File \u001b[0;32m/scratch/project/dd-23-138/conda_envs/pytorch_env/lib/python3.11/site-packages/omegaconf/nodes.py:46\u001b[0m, in \u001b[0;36mValueNode._set_value\u001b[0;34m(self, value, flags)\u001b[0m\n\u001b[1;32m     44\u001b[0m     \u001b[38;5;28mself\u001b[39m\u001b[38;5;241m.\u001b[39m_val \u001b[38;5;241m=\u001b[39m value\n\u001b[1;32m     45\u001b[0m \u001b[38;5;28;01melse\u001b[39;00m:\n\u001b[0;32m---> 46\u001b[0m     \u001b[38;5;28mself\u001b[39m\u001b[38;5;241m.\u001b[39m_val \u001b[38;5;241m=\u001b[39m \u001b[38;5;28;43mself\u001b[39;49m\u001b[38;5;241;43m.\u001b[39;49m\u001b[43mvalidate_and_convert\u001b[49m\u001b[43m(\u001b[49m\u001b[43mvalue\u001b[49m\u001b[43m)\u001b[49m\n",
      "File \u001b[0;32m/scratch/project/dd-23-138/conda_envs/pytorch_env/lib/python3.11/site-packages/omegaconf/nodes.py:76\u001b[0m, in \u001b[0;36mValueNode.validate_and_convert\u001b[0;34m(self, value)\u001b[0m\n\u001b[1;32m     74\u001b[0m     \u001b[38;5;28;01mreturn\u001b[39;00m value\n\u001b[1;32m     75\u001b[0m \u001b[38;5;28;01melse\u001b[39;00m:\n\u001b[0;32m---> 76\u001b[0m     \u001b[38;5;28;01mreturn\u001b[39;00m \u001b[38;5;28;43mself\u001b[39;49m\u001b[38;5;241;43m.\u001b[39;49m\u001b[43m_validate_and_convert_impl\u001b[49m\u001b[43m(\u001b[49m\u001b[43mvalue\u001b[49m\u001b[43m)\u001b[49m\n",
      "File \u001b[0;32m/scratch/project/dd-23-138/conda_envs/pytorch_env/lib/python3.11/site-packages/omegaconf/nodes.py:272\u001b[0m, in \u001b[0;36mIntegerNode._validate_and_convert_impl\u001b[0;34m(self, value)\u001b[0m\n\u001b[1;32m    270\u001b[0m         \u001b[38;5;28;01mraise\u001b[39;00m \u001b[38;5;167;01mValueError\u001b[39;00m()\n\u001b[1;32m    271\u001b[0m \u001b[38;5;28;01mexcept\u001b[39;00m \u001b[38;5;167;01mValueError\u001b[39;00m:\n\u001b[0;32m--> 272\u001b[0m     \u001b[38;5;28;01mraise\u001b[39;00m ValidationError(\n\u001b[1;32m    273\u001b[0m         \u001b[38;5;124m\"\u001b[39m\u001b[38;5;124mValue \u001b[39m\u001b[38;5;124m'\u001b[39m\u001b[38;5;124m$VALUE\u001b[39m\u001b[38;5;124m'\u001b[39m\u001b[38;5;124m of type \u001b[39m\u001b[38;5;124m'\u001b[39m\u001b[38;5;124m$VALUE_TYPE\u001b[39m\u001b[38;5;124m'\u001b[39m\u001b[38;5;124m could not be converted to Integer\u001b[39m\u001b[38;5;124m\"\u001b[39m\n\u001b[1;32m    274\u001b[0m     )\n\u001b[1;32m    275\u001b[0m \u001b[38;5;28;01mreturn\u001b[39;00m val\n",
      "\u001b[0;31mValidationError\u001b[0m: Value '4.0' of type 'float' could not be converted to Integer\n    full_key: ebm.nb_transitions_ais\n    reference_type=BaseEBM\n    object_type=BaseAISEBM"
     ]
    }
   ],
   "source": [
    "device = torch.device(\"cuda\" if torch.cuda.is_available() else \"cpu\")\n",
    "\n",
    "\n",
    "proposal_distribution = StupidProposal()\n",
    "explicit_bias = MockBias()\n",
    "base_dist= MockBaseDist()\n",
    "f_theta = stupid_f_theta()\n",
    "\n",
    "f_theta = f_theta.to(device)\n",
    "proposal_distribution = proposal_distribution.to(device)\n",
    "explicit_bias = explicit_bias.to(device)\n",
    "base_dist = base_dist.to(device)\n",
    "\n",
    "\n",
    "\n",
    "cfg = get_config()\n",
    "print(cfg.train)\n",
    "\n",
    "if torch.cuda.is_available():\n",
    "    device = torch.device(\"cuda\")\n",
    "else :\n",
    "    device = torch.device(\"cpu\")\n",
    "cfg.ebm.nb_transitions_ais = 4.0\n",
    "cfg.ebm.step_size_ais = 1.0\n",
    "nb_sample = 100\n",
    "\n"
   ]
  },
  {
   "cell_type": "code",
   "execution_count": null,
   "metadata": {},
   "outputs": [],
   "source": []
  },
  {
   "cell_type": "code",
   "execution_count": 228,
   "metadata": {},
   "outputs": [],
   "source": [
    "ebm = AISZEstimator(f_theta, proposal_distribution, base_dist, explicit_bias=explicit_bias, cfg_ebm=cfg.ebm)\n",
    "ebm = ebm.to(device)"
   ]
  },
  {
   "cell_type": "code",
   "execution_count": 229,
   "metadata": {},
   "outputs": [],
   "source": [
    "\n",
    "samples, log_prob = ebm.sample_ais(nb_sample, return_full_list=True, return_log_prob=True)\n",
    "# print(ebm.explicit_bias)\n",
    "# print(samples[0].shape)\n",
    "# print(len(samples))\n",
    "# # print((ebm.calculate_energy(samples[0], use_base_dist=True)[0].reshape(nb_sample,1) - log_prob[0]).logsumexp(0) - np.log(nb_sample))\n",
    "# print((-f_theta(samples[0]).reshape(nb_sample,1) + base_dist.log_prob(samples[0]) - log_prob[0]).logsumexp(0) - np.log(nb_sample))\n",
    "# print((-f_theta(samples[1]).reshape(nb_sample,1) + base_dist.log_prob(samples[1]) - log_prob[1]).logsumexp(0) - np.log(nb_sample))\n",
    "# print((-f_theta(samples[2]).reshape(nb_sample,1) + base_dist.log_prob(samples[2]) - log_prob[2]).logsumexp(0) - np.log(nb_sample))\n",
    "# print((-ebm.calculate_energy(samples[-1], use_base_dist=True)[0].reshape(nb_sample,1) - log_prob[-1]).logsumexp(0) - np.log(nb_sample))\n",
    "importance_weight = ebm.calculate_energy(samples[-1], use_base_dist=True)[0].reshape(nb_sample,1) - log_prob[-1].reshape(nb_sample,1)\n"
   ]
  },
  {
   "cell_type": "code",
   "execution_count": 230,
   "metadata": {},
   "outputs": [],
   "source": [
    "log_z, dic = ebm.estimate_log_z(torch.zeros_like(samples[-1]), nb_sample=1000, sample_function=ebm.sample_ais)\n"
   ]
  },
  {
   "cell_type": "code",
   "execution_count": 231,
   "metadata": {},
   "outputs": [
    {
     "name": "stdout",
     "output_type": "stream",
     "text": [
      "ais/accept_rate0 tensor([23204.1816])\n",
      "ais/accept_rate1 tensor([196.0417])\n"
     ]
    }
   ],
   "source": [
    "for key in dic.keys():\n",
    "    if 'accept_rate' in key:\n",
    "        print(key, dic[key])"
   ]
  },
  {
   "cell_type": "code",
   "execution_count": 232,
   "metadata": {},
   "outputs": [
    {
     "name": "stdout",
     "output_type": "stream",
     "text": [
      "At iter 0 z is 0.3880006670951843\n",
      "At iter 1 z is 0.4707368314266205\n",
      "At iter 2 z is 1.2340558767318726\n",
      "At iter 3 z is 0.43635237216949463\n",
      "At iter 4 z is 0.3773679733276367\n",
      "At iter 5 z is 0.40990379452705383\n",
      "At iter 6 z is 0.9575093388557434\n",
      "At iter 7 z is 0.907932460308075\n",
      "At iter 8 z is 0.39420628547668457\n",
      "At iter 9 z is 0.8909274339675903\n",
      "At iter 10 z is 0.4031756818294525\n",
      "At iter 11 z is 0.5365859270095825\n",
      "At iter 12 z is 0.3519766628742218\n",
      "At iter 13 z is 0.660866379737854\n",
      "At iter 14 z is 0.8840704560279846\n",
      "At iter 15 z is 0.6851235032081604\n",
      "At iter 16 z is 0.4670439064502716\n",
      "At iter 17 z is 0.4157761335372925\n",
      "At iter 18 z is 0.488307386636734\n",
      "At iter 19 z is 0.75421541929245\n",
      "Mean log_z is 0.6057067513465881\n",
      "Std log_z is 0.2522459328174591\n",
      "dict_keys(['ais/forward_prob_0', 'ais/backward_prob_0', 'ais/samples_proposal_log_prob_0', 'ais/forward_prob_1', 'ais/backward_prob_1', 'ais/samples_proposal_log_prob_1', 'ais/accept_rate0', 'ais/accept_rate1', 'z_estimation/f_theta_no_bias_on_sample_proposal', 'z_estimation/f_theta_on_sample_proposal', 'z_estimation/base_dist_loglikelihood_on_sample_proposal', 'z_estimation/proposal_loglikelihood_on_sample_proposal', 'z_estimation/aux_prob_on_sample_proposal', 'z_estimation/log_z_estimate', 'z_estimation/ESS_estimate'])\n"
     ]
    }
   ],
   "source": [
    "total_log_z = []\n",
    "for k in range(20):\n",
    "    log_z, dic = ebm.estimate_log_z(torch.zeros_like(samples[-1]), nb_sample=1000, sample_function=ebm.sample_ais)\n",
    "    total_log_z.append(log_z)\n",
    "    print(\"At iter {} z is {}\".format(k, log_z.exp()))\n",
    "print(\"Mean log_z is {}\".format(torch.stack(total_log_z).exp().mean()))\n",
    "print(\"Std log_z is {}\".format(torch.stack(total_log_z).exp().std()))\n",
    "print(dic.keys())"
   ]
  },
  {
   "cell_type": "code",
   "execution_count": null,
   "metadata": {},
   "outputs": [],
   "source": []
  },
  {
   "cell_type": "code",
   "execution_count": 235,
   "metadata": {},
   "outputs": [
    {
     "name": "stdout",
     "output_type": "stream",
     "text": [
      "At iter 0 z is 0.00011967609316343442\n",
      "At iter 1 z is 5.379659705795348e-05\n",
      "At iter 2 z is 2.854256126738619e-05\n",
      "At iter 3 z is 5.9370290728111286e-06\n",
      "At iter 4 z is 0.0004880354681517929\n",
      "At iter 5 z is 6.172693974804133e-05\n",
      "At iter 6 z is 6.984054198255762e-05\n",
      "At iter 7 z is 0.0011278745951130986\n",
      "At iter 8 z is 6.740896787960082e-05\n",
      "At iter 9 z is 2.2514195734402165e-05\n",
      "At iter 10 z is 0.00037045986391603947\n",
      "At iter 11 z is 0.00023521287948824465\n",
      "At iter 12 z is 0.025572394952178\n",
      "At iter 13 z is 0.005550624802708626\n",
      "At iter 14 z is 0.0002571556542534381\n",
      "At iter 15 z is 0.00017218146240338683\n",
      "At iter 16 z is 0.001872801803983748\n",
      "At iter 17 z is 0.034934911876916885\n",
      "At iter 18 z is 0.0003926865756511688\n",
      "At iter 19 z is 0.00041475059697404504\n",
      "Mean log_z is 0.0035909265279769897\n",
      "Std log_z is 0.009327305480837822\n",
      "dict_keys(['z_estimation/f_theta_no_bias_on_sample_proposal', 'z_estimation/f_theta_on_sample_proposal', 'z_estimation/base_dist_loglikelihood_on_sample_proposal', 'z_estimation/proposal_loglikelihood_on_sample_proposal', 'z_estimation/aux_prob_on_sample_proposal', 'z_estimation/log_z_estimate', 'z_estimation/ESS_estimate'])\n"
     ]
    }
   ],
   "source": [
    "total_log_z = []\n",
    "for k in range(20):\n",
    "    log_z, dic = ebm.estimate_log_z(torch.zeros_like(samples[-1]), nb_sample=1000, sample_function=ebm.sample,)\n",
    "    total_log_z.append(log_z)\n",
    "    print(\"At iter {} z is {}\".format(k, log_z.exp()))\n",
    "print(\"Mean log_z is {}\".format(torch.stack(total_log_z).exp().mean()))\n",
    "print(\"Std log_z is {}\".format(torch.stack(total_log_z).exp().std()))\n",
    "print(dic.keys())"
   ]
  },
  {
   "cell_type": "code",
   "execution_count": null,
   "metadata": {},
   "outputs": [],
   "source": []
  },
  {
   "cell_type": "code",
   "execution_count": null,
   "metadata": {},
   "outputs": [],
   "source": []
  },
  {
   "cell_type": "code",
   "execution_count": 236,
   "metadata": {},
   "outputs": [
    {
     "data": {
      "image/png": "[encoded data removed]",
      "text/plain": [
       "<Figure size 4400x400 with 11 Axes>"
      ]
     },
     "metadata": {},
     "output_type": "display_data"
    }
   ],
   "source": [
    "import matplotlib.pyplot as plt\n",
    "\n",
    "# Sample 10 times \n",
    "fig, axs = plt.subplots(1, 11, figsize=(44, 4))\n",
    "if len(samples) < 11:\n",
    "    for k in range(len(samples)):\n",
    "        current_samples = samples[k].flatten(1).detach().cpu().numpy()\n",
    "        axs[k].scatter(current_samples[:,0], current_samples[:,1])\n",
    "        axs[k].set_xlim(-4, 4)\n",
    "        axs[k].set_ylim(-4, 4)\n",
    "        axs[k].set_title(\"Samples at step {}\".format(k))\n",
    "else :\n",
    "    for k in range(10):\n",
    "        current_samples = samples[len(samples)//10 * k].flatten(1).detach().cpu().numpy()\n",
    "        axs[k].scatter(current_samples[:,0], current_samples[:,1])\n",
    "        axs[k].set_xlim(-4, 4)\n",
    "        axs[k].set_ylim(-4, 4)\n",
    "        axs[k].set_title(\"Samples at step {}\".format(len(samples)//10 * k))\n",
    "    current_samples = samples[-1].flatten(1).detach().cpu().numpy()\n",
    "    axs[-1].scatter(current_samples[:,0], current_samples[:,1])\n",
    "    axs[-1].set_xlim(-4, 4)\n",
    "    axs[-1].set_ylim(-4, 4)\n",
    "    axs[-1].set_title(\"Samples at step {}\".format(len(samples)-1))"
   ]
  },
  {
   "cell_type": "code",
   "execution_count": 163,
   "metadata": {},
   "outputs": [
    {
     "name": "stdout",
     "output_type": "stream",
     "text": [
      "11\n"
     ]
    }
   ],
   "source": [
    "print(len(log_prob))"
   ]
  },
  {
   "cell_type": "code",
   "execution_count": null,
   "metadata": {},
   "outputs": [],
   "source": []
  },
  {
   "cell_type": "code",
   "execution_count": null,
   "metadata": {},
   "outputs": [],
   "source": []
  }
 ],
 "metadata": {
  "kernelspec": {
   "display_name": "Python 3 (ipykernel)",
   "language": "python",
   "name": "python3"
  },
  "language_info": {
   "codemirror_mode": {
    "name": "ipython",
    "version": 3
   },
   "file_extension": ".py",
   "mimetype": "text/x-python",
   "name": "python",
   "nbconvert_exporter": "python",
   "pygments_lexer": "ipython3",
   "version": "3.11.5"
  }
 },
 "nbformat": 4,
 "nbformat_minor": 2
}
