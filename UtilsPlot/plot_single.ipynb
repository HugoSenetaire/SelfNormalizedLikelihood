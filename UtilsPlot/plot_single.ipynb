{
 "cells": [
  {
   "cell_type": "code",
   "execution_count": 1,
   "metadata": {},
   "outputs": [],
   "source": [
    "import pandas as pd\n",
    "import latex\n",
    "from tueplots import bundles\n",
    "pd.set_option(\"display.max_rows\", None, \"display.max_columns\", None)\n",
    "import numpy as np\n",
    "import matplotlib.pyplot as plt\n",
    "plt.rcParams.update(bundles.neurips2023( usetex=True))\n",
    "default_fig_size = plt.rcParams.get('figure.figsize')\n",
    "import os\n",
    "import tqdm\n",
    "import glob\n",
    "import pandas as pd\n",
    "from utils_plot import get_list_dir, create_dictionnary_params, get_single_value, get_list_value, filter_list\n"
   ]
  },
  {
   "cell_type": "code",
   "execution_count": 2,
   "metadata": {},
   "outputs": [],
   "source": [
    "root_dir = \"/scratch/hhjs/selfnormalized/\"\n",
    "results_name = \"Results_trainfeatureextractor\"\n",
    "dataset_name = 'cell_count'\n",
    "results_dir = os.path.join(os.path.join(root_dir, results_name), dataset_name)\n",
    "# if os.path.exists(results_dir):\n",
    "#     !cd $results_dir && ls && pwd\n",
    "# else :\n",
    "#     print(\"Results dir does not exist\")"
   ]
  },
  {
   "cell_type": "code",
   "execution_count": 3,
   "metadata": {},
   "outputs": [],
   "source": [
    "list_dir = get_list_dir(results_dir)"
   ]
  },
  {
   "cell_type": "code",
   "execution_count": 4,
   "metadata": {},
   "outputs": [
    {
     "name": "stdout",
     "output_type": "stream",
     "text": [
      "/scratch/hhjs/selfnormalized/Results_trainfeatureextractor/cell_count/proposal/nce_1/energy_fc_large_bias/adam1e-3/standard_gaussian/seed_12/lightning_logs/version_0/hparams.yaml\n",
      "/scratch/hhjs/selfnormalized/Results_trainfeatureextractor/cell_count/proposal/nce_1/energy_fc_large_bias/adam1e-3/standard_gaussian/seed_0/lightning_logs/version_0/hparams.yaml\n",
      "/scratch/hhjs/selfnormalized/Results_trainfeatureextractor/cell_count/proposal/nce_1/energy_fc_large_bias/adam1e-3/standard_gaussian/seed_1/lightning_logs/version_0/hparams.yaml\n",
      "/scratch/hhjs/selfnormalized/Results_trainfeatureextractor/cell_count/proposal/nce_1/energy_fc_large_bias/adam1e-3/standard_gaussian/seed_2/lightning_logs/version_0/hparams.yaml\n",
      "/scratch/hhjs/selfnormalized/Results_trainfeatureextractor/cell_count/proposal/nce_8/energy_fc_large_bias/adam1e-3/standard_gaussian/seed_12/lightning_logs/version_0/hparams.yaml\n",
      "/scratch/hhjs/selfnormalized/Results_trainfeatureextractor/cell_count/proposal/nce_16/energy_fc_large_bias/adam1e-3/standard_gaussian/seed_12/lightning_logs/version_0/hparams.yaml\n",
      "/scratch/hhjs/selfnormalized/Results_trainfeatureextractor/cell_count/proposal/nce_32/energy_fc_large_bias/adam1e-3/standard_gaussian/seed_12/lightning_logs/version_0/hparams.yaml\n",
      "/scratch/hhjs/selfnormalized/Results_trainfeatureextractor/cell_count/proposal/nce_64/energy_fc_large_bias/adam1e-3/standard_gaussian/seed_12/lightning_logs/version_0/hparams.yaml\n",
      "/scratch/hhjs/selfnormalized/Results_trainfeatureextractor/cell_count/proposal/nce_128/energy_fc_large_bias/adam1e-3/standard_gaussian/seed_12/lightning_logs/version_0/hparams.yaml\n",
      "/scratch/hhjs/selfnormalized/Results_trainfeatureextractor/cell_count/none/nce/energy_fc_large_bias/adam1e-3/uniform/seed_12/lightning_logs/version_0/hparams.yaml\n",
      "/scratch/hhjs/selfnormalized/Results_trainfeatureextractor/cell_count/none/nce_8/energy_fc_large_bias/adam1e-3/standard_gaussian/seed_12/lightning_logs/version_0/hparams.yaml\n",
      "/scratch/hhjs/selfnormalized/Results_trainfeatureextractor/cell_count/none/nce_8/energy_fc_large_bias/adam1e-3/standard_gaussian/seed_0/lightning_logs/version_0/hparams.yaml\n",
      "/scratch/hhjs/selfnormalized/Results_trainfeatureextractor/cell_count/none/nce_8/energy_fc_large_bias/adam1e-3/standard_gaussian/seed_0/lightning_logs/version_1/hparams.yaml\n",
      "/scratch/hhjs/selfnormalized/Results_trainfeatureextractor/cell_count/none/nce_8/energy_fc_large_bias/adam1e-3/standard_gaussian/seed_1/lightning_logs/version_0/hparams.yaml\n",
      "/scratch/hhjs/selfnormalized/Results_trainfeatureextractor/cell_count/none/nce_8/energy_fc_large_bias/adam1e-3/standard_gaussian/seed_2/lightning_logs/version_0/hparams.yaml\n",
      "/scratch/hhjs/selfnormalized/Results_trainfeatureextractor/cell_count/none/nce_1/energy_fc_large_bias/adam1e-3/standard_gaussian/seed_12/lightning_logs/version_0/hparams.yaml\n",
      "/scratch/hhjs/selfnormalized/Results_trainfeatureextractor/cell_count/none/nce_1/energy_fc_large_bias/adam1e-3/standard_gaussian/seed_0/lightning_logs/version_0/hparams.yaml\n",
      "/scratch/hhjs/selfnormalized/Results_trainfeatureextractor/cell_count/none/nce_1/energy_fc_large_bias/adam1e-3/standard_gaussian/seed_0/lightning_logs/version_1/hparams.yaml\n",
      "/scratch/hhjs/selfnormalized/Results_trainfeatureextractor/cell_count/none/nce_128/energy_fc_large_bias/adam1e-3/standard_gaussian/seed_12/lightning_logs/version_0/hparams.yaml\n",
      "/scratch/hhjs/selfnormalized/Results_trainfeatureextractor/cell_count/none/nce_128/energy_fc_large_bias/adam1e-3/standard_gaussian/seed_0/lightning_logs/version_0/hparams.yaml\n",
      "/scratch/hhjs/selfnormalized/Results_trainfeatureextractor/cell_count/none/nce_128/energy_fc_large_bias/adam1e-3/standard_gaussian/seed_1/lightning_logs/version_0/hparams.yaml\n",
      "/scratch/hhjs/selfnormalized/Results_trainfeatureextractor/cell_count/none/nce_128/energy_fc_large_bias/adam1e-3/standard_gaussian/seed_2/lightning_logs/version_0/hparams.yaml\n",
      "/scratch/hhjs/selfnormalized/Results_trainfeatureextractor/cell_count/none/nce_128/energy_fc_large_bias/adam1e-3/standard_gaussian/seed_4/lightning_logs/version_0/hparams.yaml\n",
      "/scratch/hhjs/selfnormalized/Results_trainfeatureextractor/cell_count/none/nce_16/energy_fc_large_bias/adam1e-3/standard_gaussian/seed_12/lightning_logs/version_0/hparams.yaml\n",
      "/scratch/hhjs/selfnormalized/Results_trainfeatureextractor/cell_count/none/nce_16/energy_fc_large_bias/adam1e-3/standard_gaussian/seed_0/lightning_logs/version_0/hparams.yaml\n",
      "/scratch/hhjs/selfnormalized/Results_trainfeatureextractor/cell_count/none/nce_16/energy_fc_large_bias/adam1e-3/standard_gaussian/seed_1/lightning_logs/version_0/hparams.yaml\n",
      "/scratch/hhjs/selfnormalized/Results_trainfeatureextractor/cell_count/none/nce_16/energy_fc_large_bias/adam1e-3/standard_gaussian/seed_2/lightning_logs/version_0/hparams.yaml\n",
      "/scratch/hhjs/selfnormalized/Results_trainfeatureextractor/cell_count/none/nce_16/energy_fc_large_bias/adam1e-3/standard_gaussian/seed_4/lightning_logs/version_0/hparams.yaml\n",
      "/scratch/hhjs/selfnormalized/Results_trainfeatureextractor/cell_count/none/nce_64/energy_fc_large_bias/adam1e-3/standard_gaussian/seed_12/lightning_logs/version_0/hparams.yaml\n",
      "/scratch/hhjs/selfnormalized/Results_trainfeatureextractor/cell_count/none/nce_64/energy_fc_large_bias/adam1e-3/standard_gaussian/seed_0/lightning_logs/version_0/hparams.yaml\n",
      "/scratch/hhjs/selfnormalized/Results_trainfeatureextractor/cell_count/none/nce_64/energy_fc_large_bias/adam1e-3/standard_gaussian/seed_1/lightning_logs/version_0/hparams.yaml\n",
      "/scratch/hhjs/selfnormalized/Results_trainfeatureextractor/cell_count/none/nce_64/energy_fc_large_bias/adam1e-3/standard_gaussian/seed_2/lightning_logs/version_0/hparams.yaml\n",
      "/scratch/hhjs/selfnormalized/Results_trainfeatureextractor/cell_count/none/nce_64/energy_fc_large_bias/adam1e-3/standard_gaussian/seed_4/lightning_logs/version_0/hparams.yaml\n",
      "/scratch/hhjs/selfnormalized/Results_trainfeatureextractor/cell_count/none/nce_32/energy_fc_large_bias/adam1e-3/standard_gaussian/seed_12/lightning_logs/version_0/hparams.yaml\n",
      "/scratch/hhjs/selfnormalized/Results_trainfeatureextractor/cell_count/none/nce_32/energy_fc_large_bias/adam1e-3/standard_gaussian/seed_0/lightning_logs/version_0/hparams.yaml\n",
      "/scratch/hhjs/selfnormalized/Results_trainfeatureextractor/cell_count/none/nce_32/energy_fc_large_bias/adam1e-3/standard_gaussian/seed_1/lightning_logs/version_0/hparams.yaml\n",
      "/scratch/hhjs/selfnormalized/Results_trainfeatureextractor/cell_count/none/nce_32/energy_fc_large_bias/adam1e-3/standard_gaussian/seed_2/lightning_logs/version_0/hparams.yaml\n",
      "/scratch/hhjs/selfnormalized/Results_trainfeatureextractor/cell_count/none/nce_32/energy_fc_large_bias/adam1e-3/standard_gaussian/seed_4/lightning_logs/version_0/hparams.yaml\n"
     ]
    }
   ],
   "source": [
    "\n",
    "list_dir_filtered=filter_list(list_dir, \"seed\")\n",
    "list_dir_filtered=filter_list(list_dir_filtered, \"/nce\")\n",
    "for path in list_dir_filtered :\n",
    "    print(path)"
   ]
  },
  {
   "cell_type": "code",
   "execution_count": 5,
   "metadata": {},
   "outputs": [
    {
     "name": "stdout",
     "output_type": "stream",
     "text": [
      "{'base_dist': ['proposal', 'proposal', 'proposal', 'proposal', 'proposal', 'proposal', 'proposal', 'proposal', 'proposal', 'None', 'None', 'None', 'None', 'None', 'None', 'None', 'None', 'None', 'None', 'None', 'None', 'None', 'None', 'None', 'None', 'None', 'None', 'None', 'None', 'None', 'None', 'None', 'None', 'None', 'None', 'None', 'None', 'None'], 'training_type': ['nce_1', 'nce_1', 'nce_1', 'nce_1', 'nce_8', 'nce_16', 'nce_32', 'nce_64', 'nce_128', 'None', '8', '8', '8', '8', '8', '1', '1', '1', '128', '128', '128', '128', '128', '16', '16', '16', '16', '16', '64', '64', '64', '64', '64', '32', '32', '32', '32', '32'], 'network': ['energy_fc_large_bias', 'energy_fc_large_bias', 'energy_fc_large_bias', 'energy_fc_large_bias', 'energy_fc_large_bias', 'energy_fc_large_bias', 'energy_fc_large_bias', 'energy_fc_large_bias', 'energy_fc_large_bias', 'gy_fc_large_bias', 'energy_fc_large_bias', 'energy_fc_large_bias', 'energy_fc_large_bias', 'energy_fc_large_bias', 'energy_fc_large_bias', 'energy_fc_large_bias', 'energy_fc_large_bias', 'energy_fc_large_bias', 'energy_fc_large_bias', 'energy_fc_large_bias', 'energy_fc_large_bias', 'energy_fc_large_bias', 'energy_fc_large_bias', 'energy_fc_large_bias', 'energy_fc_large_bias', 'energy_fc_large_bias', 'energy_fc_large_bias', 'energy_fc_large_bias', 'energy_fc_large_bias', 'energy_fc_large_bias', 'energy_fc_large_bias', 'energy_fc_large_bias', 'energy_fc_large_bias', 'energy_fc_large_bias', 'energy_fc_large_bias', 'energy_fc_large_bias', 'energy_fc_large_bias', 'energy_fc_large_bias'], 'optimizer': ['adam1e-3', 'adam1e-3', 'adam1e-3', 'adam1e-3', 'adam1e-3', 'adam1e-3', 'adam1e-3', 'adam1e-3', 'adam1e-3', 'adam1e-3', 'adam1e-3', 'adam1e-3', 'adam1e-3', 'adam1e-3', 'adam1e-3', 'adam1e-3', 'adam1e-3', 'adam1e-3', 'adam1e-3', 'adam1e-3', 'adam1e-3', 'adam1e-3', 'adam1e-3', 'adam1e-3', 'adam1e-3', 'adam1e-3', 'adam1e-3', 'adam1e-3', 'adam1e-3', 'adam1e-3', 'adam1e-3', 'adam1e-3', 'adam1e-3', 'adam1e-3', 'adam1e-3', 'adam1e-3', 'adam1e-3', 'adam1e-3'], 'proposal': ['standard_gaussian', 'standard_gaussian', 'standard_gaussian', 'standard_gaussian', 'standard_gaussian', 'standard_gaussian', 'standard_gaussian', 'standard_gaussian', 'standard_gaussian', 'uniform', 'standard_gaussian', 'standard_gaussian', 'standard_gaussian', 'standard_gaussian', 'standard_gaussian', 'standard_gaussian', 'standard_gaussian', 'standard_gaussian', 'standard_gaussian', 'standard_gaussian', 'standard_gaussian', 'standard_gaussian', 'standard_gaussian', 'standard_gaussian', 'standard_gaussian', 'standard_gaussian', 'standard_gaussian', 'standard_gaussian', 'standard_gaussian', 'standard_gaussian', 'standard_gaussian', 'standard_gaussian', 'standard_gaussian', 'standard_gaussian', 'standard_gaussian', 'standard_gaussian', 'standard_gaussian', 'standard_gaussian'], 'seed': ['seed_12', 'seed_0', 'seed_1', 'seed_2', 'seed_12', 'seed_12', 'seed_12', 'seed_12', 'seed_12', 'seed_12', 'seed_12', 'seed_0', 'seed_0', 'seed_1', 'seed_2', 'seed_12', 'seed_0', 'seed_0', 'seed_12', 'seed_0', 'seed_1', 'seed_2', 'seed_4', 'seed_12', 'seed_0', 'seed_1', 'seed_2', 'seed_4', 'seed_12', 'seed_0', 'seed_1', 'seed_2', 'seed_4', 'seed_12', 'seed_0', 'seed_1', 'seed_2', 'seed_4'], 'lightning_logs': ['lightning_logs', 'lightning_logs', 'lightning_logs', 'lightning_logs', 'lightning_logs', 'lightning_logs', 'lightning_logs', 'lightning_logs', 'lightning_logs', 'lightning_logs', 'lightning_logs', 'lightning_logs', 'lightning_logs', 'lightning_logs', 'lightning_logs', 'lightning_logs', 'lightning_logs', 'lightning_logs', 'lightning_logs', 'lightning_logs', 'lightning_logs', 'lightning_logs', 'lightning_logs', 'lightning_logs', 'lightning_logs', 'lightning_logs', 'lightning_logs', 'lightning_logs', 'lightning_logs', 'lightning_logs', 'lightning_logs', 'lightning_logs', 'lightning_logs', 'lightning_logs', 'lightning_logs', 'lightning_logs', 'lightning_logs', 'lightning_logs'], 'version': ['version_0', 'version_0', 'version_0', 'version_0', 'version_0', 'version_0', 'version_0', 'version_0', 'version_0', 'version_0', 'version_0', 'version_0', 'version_1', 'version_0', 'version_0', 'version_0', 'version_0', 'version_1', 'version_0', 'version_0', 'version_0', 'version_0', 'version_0', 'version_0', 'version_0', 'version_0', 'version_0', 'version_0', 'version_0', 'version_0', 'version_0', 'version_0', 'version_0', 'version_0', 'version_0', 'version_0', 'version_0', 'version_0'], 'folder_event': ['/scratch/hhjs/selfnormalized/Results_trainfeatureextractor/cell_count/proposal/nce_1/energy_fc_large_bias/adam1e-3/standard_gaussian/seed_12/lightning_logs/version_0/', '/scratch/hhjs/selfnormalized/Results_trainfeatureextractor/cell_count/proposal/nce_1/energy_fc_large_bias/adam1e-3/standard_gaussian/seed_0/lightning_logs/version_0/', '/scratch/hhjs/selfnormalized/Results_trainfeatureextractor/cell_count/proposal/nce_1/energy_fc_large_bias/adam1e-3/standard_gaussian/seed_1/lightning_logs/version_0/', '/scratch/hhjs/selfnormalized/Results_trainfeatureextractor/cell_count/proposal/nce_1/energy_fc_large_bias/adam1e-3/standard_gaussian/seed_2/lightning_logs/version_0/', '/scratch/hhjs/selfnormalized/Results_trainfeatureextractor/cell_count/proposal/nce_8/energy_fc_large_bias/adam1e-3/standard_gaussian/seed_12/lightning_logs/version_0/', '/scratch/hhjs/selfnormalized/Results_trainfeatureextractor/cell_count/proposal/nce_16/energy_fc_large_bias/adam1e-3/standard_gaussian/seed_12/lightning_logs/version_0/', '/scratch/hhjs/selfnormalized/Results_trainfeatureextractor/cell_count/proposal/nce_32/energy_fc_large_bias/adam1e-3/standard_gaussian/seed_12/lightning_logs/version_0/', '/scratch/hhjs/selfnormalized/Results_trainfeatureextractor/cell_count/proposal/nce_64/energy_fc_large_bias/adam1e-3/standard_gaussian/seed_12/lightning_logs/version_0/', '/scratch/hhjs/selfnormalized/Results_trainfeatureextractor/cell_count/proposal/nce_128/energy_fc_large_bias/adam1e-3/standard_gaussian/seed_12/lightning_logs/version_0/', '/scratch/hhjs/selfnormalized/Results_trainfeatureextractor/cell_count/none/nce/energy_fc_large_bias/adam1e-3/uniform/seed_12/lightning_logs/version_0/', '/scratch/hhjs/selfnormalized/Results_trainfeatureextractor/cell_count/none/nce_8/energy_fc_large_bias/adam1e-3/standard_gaussian/seed_12/lightning_logs/version_0/', '/scratch/hhjs/selfnormalized/Results_trainfeatureextractor/cell_count/none/nce_8/energy_fc_large_bias/adam1e-3/standard_gaussian/seed_0/lightning_logs/version_0/', '/scratch/hhjs/selfnormalized/Results_trainfeatureextractor/cell_count/none/nce_8/energy_fc_large_bias/adam1e-3/standard_gaussian/seed_0/lightning_logs/version_1/', '/scratch/hhjs/selfnormalized/Results_trainfeatureextractor/cell_count/none/nce_8/energy_fc_large_bias/adam1e-3/standard_gaussian/seed_1/lightning_logs/version_0/', '/scratch/hhjs/selfnormalized/Results_trainfeatureextractor/cell_count/none/nce_8/energy_fc_large_bias/adam1e-3/standard_gaussian/seed_2/lightning_logs/version_0/', '/scratch/hhjs/selfnormalized/Results_trainfeatureextractor/cell_count/none/nce_1/energy_fc_large_bias/adam1e-3/standard_gaussian/seed_12/lightning_logs/version_0/', '/scratch/hhjs/selfnormalized/Results_trainfeatureextractor/cell_count/none/nce_1/energy_fc_large_bias/adam1e-3/standard_gaussian/seed_0/lightning_logs/version_0/', '/scratch/hhjs/selfnormalized/Results_trainfeatureextractor/cell_count/none/nce_1/energy_fc_large_bias/adam1e-3/standard_gaussian/seed_0/lightning_logs/version_1/', '/scratch/hhjs/selfnormalized/Results_trainfeatureextractor/cell_count/none/nce_128/energy_fc_large_bias/adam1e-3/standard_gaussian/seed_12/lightning_logs/version_0/', '/scratch/hhjs/selfnormalized/Results_trainfeatureextractor/cell_count/none/nce_128/energy_fc_large_bias/adam1e-3/standard_gaussian/seed_0/lightning_logs/version_0/', '/scratch/hhjs/selfnormalized/Results_trainfeatureextractor/cell_count/none/nce_128/energy_fc_large_bias/adam1e-3/standard_gaussian/seed_1/lightning_logs/version_0/', '/scratch/hhjs/selfnormalized/Results_trainfeatureextractor/cell_count/none/nce_128/energy_fc_large_bias/adam1e-3/standard_gaussian/seed_2/lightning_logs/version_0/', '/scratch/hhjs/selfnormalized/Results_trainfeatureextractor/cell_count/none/nce_128/energy_fc_large_bias/adam1e-3/standard_gaussian/seed_4/lightning_logs/version_0/', '/scratch/hhjs/selfnormalized/Results_trainfeatureextractor/cell_count/none/nce_16/energy_fc_large_bias/adam1e-3/standard_gaussian/seed_12/lightning_logs/version_0/', '/scratch/hhjs/selfnormalized/Results_trainfeatureextractor/cell_count/none/nce_16/energy_fc_large_bias/adam1e-3/standard_gaussian/seed_0/lightning_logs/version_0/', '/scratch/hhjs/selfnormalized/Results_trainfeatureextractor/cell_count/none/nce_16/energy_fc_large_bias/adam1e-3/standard_gaussian/seed_1/lightning_logs/version_0/', '/scratch/hhjs/selfnormalized/Results_trainfeatureextractor/cell_count/none/nce_16/energy_fc_large_bias/adam1e-3/standard_gaussian/seed_2/lightning_logs/version_0/', '/scratch/hhjs/selfnormalized/Results_trainfeatureextractor/cell_count/none/nce_16/energy_fc_large_bias/adam1e-3/standard_gaussian/seed_4/lightning_logs/version_0/', '/scratch/hhjs/selfnormalized/Results_trainfeatureextractor/cell_count/none/nce_64/energy_fc_large_bias/adam1e-3/standard_gaussian/seed_12/lightning_logs/version_0/', '/scratch/hhjs/selfnormalized/Results_trainfeatureextractor/cell_count/none/nce_64/energy_fc_large_bias/adam1e-3/standard_gaussian/seed_0/lightning_logs/version_0/', '/scratch/hhjs/selfnormalized/Results_trainfeatureextractor/cell_count/none/nce_64/energy_fc_large_bias/adam1e-3/standard_gaussian/seed_1/lightning_logs/version_0/', '/scratch/hhjs/selfnormalized/Results_trainfeatureextractor/cell_count/none/nce_64/energy_fc_large_bias/adam1e-3/standard_gaussian/seed_2/lightning_logs/version_0/', '/scratch/hhjs/selfnormalized/Results_trainfeatureextractor/cell_count/none/nce_64/energy_fc_large_bias/adam1e-3/standard_gaussian/seed_4/lightning_logs/version_0/', '/scratch/hhjs/selfnormalized/Results_trainfeatureextractor/cell_count/none/nce_32/energy_fc_large_bias/adam1e-3/standard_gaussian/seed_12/lightning_logs/version_0/', '/scratch/hhjs/selfnormalized/Results_trainfeatureextractor/cell_count/none/nce_32/energy_fc_large_bias/adam1e-3/standard_gaussian/seed_0/lightning_logs/version_0/', '/scratch/hhjs/selfnormalized/Results_trainfeatureextractor/cell_count/none/nce_32/energy_fc_large_bias/adam1e-3/standard_gaussian/seed_1/lightning_logs/version_0/', '/scratch/hhjs/selfnormalized/Results_trainfeatureextractor/cell_count/none/nce_32/energy_fc_large_bias/adam1e-3/standard_gaussian/seed_2/lightning_logs/version_0/', '/scratch/hhjs/selfnormalized/Results_trainfeatureextractor/cell_count/none/nce_32/energy_fc_large_bias/adam1e-3/standard_gaussian/seed_4/lightning_logs/version_0/']}\n"
     ]
    }
   ],
   "source": [
    "dictionnary_params = create_dictionnary_params(list_dir_filtered, results_dir)\n",
    "print(dictionnary_params)"
   ]
  },
  {
   "cell_type": "code",
   "execution_count": 6,
   "metadata": {},
   "outputs": [
    {
     "name": "stderr",
     "output_type": "stream",
     "text": [
      "1it [00:00,  1.53it/s]"
     ]
    },
    {
     "name": "stdout",
     "output_type": "stream",
     "text": [
      "/scratch/hhjs/selfnormalized/Results_trainfeatureextractor/cell_count/proposal/nce_1/energy_fc_large_bias/adam1e-3/standard_gaussian/seed_12/lightning_logs/version_0/hparams.yaml\n",
      "/scratch/hhjs/selfnormalized/Results_trainfeatureextractor/cell_count/proposal/nce_1/energy_fc_large_bias/adam1e-3/standard_gaussian/seed_12/lightning_logs/version_0/hparams.yaml\n"
     ]
    },
    {
     "name": "stderr",
     "output_type": "stream",
     "text": [
      "2it [00:01,  1.60it/s]"
     ]
    },
    {
     "name": "stdout",
     "output_type": "stream",
     "text": [
      "/scratch/hhjs/selfnormalized/Results_trainfeatureextractor/cell_count/proposal/nce_1/energy_fc_large_bias/adam1e-3/standard_gaussian/seed_0/lightning_logs/version_0/hparams.yaml\n",
      "/scratch/hhjs/selfnormalized/Results_trainfeatureextractor/cell_count/proposal/nce_1/energy_fc_large_bias/adam1e-3/standard_gaussian/seed_0/lightning_logs/version_0/hparams.yaml\n"
     ]
    },
    {
     "name": "stderr",
     "output_type": "stream",
     "text": [
      "3it [00:01,  1.61it/s]"
     ]
    },
    {
     "name": "stdout",
     "output_type": "stream",
     "text": [
      "/scratch/hhjs/selfnormalized/Results_trainfeatureextractor/cell_count/proposal/nce_1/energy_fc_large_bias/adam1e-3/standard_gaussian/seed_1/lightning_logs/version_0/hparams.yaml\n",
      "/scratch/hhjs/selfnormalized/Results_trainfeatureextractor/cell_count/proposal/nce_1/energy_fc_large_bias/adam1e-3/standard_gaussian/seed_1/lightning_logs/version_0/hparams.yaml\n"
     ]
    },
    {
     "name": "stderr",
     "output_type": "stream",
     "text": [
      "4it [00:02,  1.67it/s]"
     ]
    },
    {
     "name": "stdout",
     "output_type": "stream",
     "text": [
      "/scratch/hhjs/selfnormalized/Results_trainfeatureextractor/cell_count/proposal/nce_1/energy_fc_large_bias/adam1e-3/standard_gaussian/seed_2/lightning_logs/version_0/hparams.yaml\n",
      "/scratch/hhjs/selfnormalized/Results_trainfeatureextractor/cell_count/proposal/nce_1/energy_fc_large_bias/adam1e-3/standard_gaussian/seed_2/lightning_logs/version_0/hparams.yaml\n",
      "Key test_log_likelihood_self_normalized_mean not in for /scratch/hhjs/selfnormalized/Results_trainfeatureextractor/cell_count/proposal/nce_1/energy_fc_large_bias/adam1e-3/standard_gaussian/seed_2/lightning_logs/version_0/\n",
      "Key test_log_likelihood_importance_mean not in for /scratch/hhjs/selfnormalized/Results_trainfeatureextractor/cell_count/proposal/nce_1/energy_fc_large_bias/adam1e-3/standard_gaussian/seed_2/lightning_logs/version_0/\n"
     ]
    },
    {
     "name": "stderr",
     "output_type": "stream",
     "text": [
      "5it [00:03,  1.54it/s]"
     ]
    },
    {
     "name": "stdout",
     "output_type": "stream",
     "text": [
      "/scratch/hhjs/selfnormalized/Results_trainfeatureextractor/cell_count/proposal/nce_8/energy_fc_large_bias/adam1e-3/standard_gaussian/seed_12/lightning_logs/version_0/hparams.yaml\n",
      "/scratch/hhjs/selfnormalized/Results_trainfeatureextractor/cell_count/proposal/nce_8/energy_fc_large_bias/adam1e-3/standard_gaussian/seed_12/lightning_logs/version_0/hparams.yaml\n"
     ]
    },
    {
     "name": "stderr",
     "output_type": "stream",
     "text": [
      "6it [00:03,  1.53it/s]"
     ]
    },
    {
     "name": "stdout",
     "output_type": "stream",
     "text": [
      "/scratch/hhjs/selfnormalized/Results_trainfeatureextractor/cell_count/proposal/nce_16/energy_fc_large_bias/adam1e-3/standard_gaussian/seed_12/lightning_logs/version_0/hparams.yaml\n",
      "/scratch/hhjs/selfnormalized/Results_trainfeatureextractor/cell_count/proposal/nce_16/energy_fc_large_bias/adam1e-3/standard_gaussian/seed_12/lightning_logs/version_0/hparams.yaml\n"
     ]
    },
    {
     "name": "stderr",
     "output_type": "stream",
     "text": [
      "7it [00:04,  1.57it/s]"
     ]
    },
    {
     "name": "stdout",
     "output_type": "stream",
     "text": [
      "/scratch/hhjs/selfnormalized/Results_trainfeatureextractor/cell_count/proposal/nce_32/energy_fc_large_bias/adam1e-3/standard_gaussian/seed_12/lightning_logs/version_0/hparams.yaml\n",
      "/scratch/hhjs/selfnormalized/Results_trainfeatureextractor/cell_count/proposal/nce_32/energy_fc_large_bias/adam1e-3/standard_gaussian/seed_12/lightning_logs/version_0/hparams.yaml\n"
     ]
    },
    {
     "name": "stderr",
     "output_type": "stream",
     "text": [
      "8it [00:05,  1.58it/s]"
     ]
    },
    {
     "name": "stdout",
     "output_type": "stream",
     "text": [
      "/scratch/hhjs/selfnormalized/Results_trainfeatureextractor/cell_count/proposal/nce_64/energy_fc_large_bias/adam1e-3/standard_gaussian/seed_12/lightning_logs/version_0/hparams.yaml\n",
      "/scratch/hhjs/selfnormalized/Results_trainfeatureextractor/cell_count/proposal/nce_64/energy_fc_large_bias/adam1e-3/standard_gaussian/seed_12/lightning_logs/version_0/hparams.yaml\n"
     ]
    },
    {
     "name": "stderr",
     "output_type": "stream",
     "text": [
      "9it [00:05,  1.61it/s]"
     ]
    },
    {
     "name": "stdout",
     "output_type": "stream",
     "text": [
      "/scratch/hhjs/selfnormalized/Results_trainfeatureextractor/cell_count/proposal/nce_128/energy_fc_large_bias/adam1e-3/standard_gaussian/seed_12/lightning_logs/version_0/hparams.yaml\n",
      "/scratch/hhjs/selfnormalized/Results_trainfeatureextractor/cell_count/proposal/nce_128/energy_fc_large_bias/adam1e-3/standard_gaussian/seed_12/lightning_logs/version_0/hparams.yaml\n"
     ]
    },
    {
     "name": "stderr",
     "output_type": "stream",
     "text": [
      "10it [00:05,  1.98it/s]"
     ]
    },
    {
     "name": "stdout",
     "output_type": "stream",
     "text": [
      "/scratch/hhjs/selfnormalized/Results_trainfeatureextractor/cell_count/none/nce/energy_fc_large_bias/adam1e-3/uniform/seed_12/lightning_logs/version_0/hparams.yaml\n",
      "/scratch/hhjs/selfnormalized/Results_trainfeatureextractor/cell_count/none/nce/energy_fc_large_bias/adam1e-3/uniform/seed_12/lightning_logs/version_0/hparams.yaml\n",
      "Key test_log_likelihood_self_normalized_mean not in for /scratch/hhjs/selfnormalized/Results_trainfeatureextractor/cell_count/none/nce/energy_fc_large_bias/adam1e-3/uniform/seed_12/lightning_logs/version_0/\n",
      "Key test_log_likelihood_importance_mean not in for /scratch/hhjs/selfnormalized/Results_trainfeatureextractor/cell_count/none/nce/energy_fc_large_bias/adam1e-3/uniform/seed_12/lightning_logs/version_0/\n"
     ]
    },
    {
     "name": "stderr",
     "output_type": "stream",
     "text": [
      "11it [00:06,  1.85it/s]"
     ]
    },
    {
     "name": "stdout",
     "output_type": "stream",
     "text": [
      "/scratch/hhjs/selfnormalized/Results_trainfeatureextractor/cell_count/none/nce_8/energy_fc_large_bias/adam1e-3/standard_gaussian/seed_12/lightning_logs/version_0/hparams.yaml\n",
      "/scratch/hhjs/selfnormalized/Results_trainfeatureextractor/cell_count/none/nce_8/energy_fc_large_bias/adam1e-3/standard_gaussian/seed_12/lightning_logs/version_0/hparams.yaml\n"
     ]
    },
    {
     "name": "stderr",
     "output_type": "stream",
     "text": [
      "12it [00:07,  1.77it/s]"
     ]
    },
    {
     "name": "stdout",
     "output_type": "stream",
     "text": [
      "/scratch/hhjs/selfnormalized/Results_trainfeatureextractor/cell_count/none/nce_8/energy_fc_large_bias/adam1e-3/standard_gaussian/seed_0/lightning_logs/version_0/hparams.yaml\n",
      "/scratch/hhjs/selfnormalized/Results_trainfeatureextractor/cell_count/none/nce_8/energy_fc_large_bias/adam1e-3/standard_gaussian/seed_0/lightning_logs/version_0/hparams.yaml\n"
     ]
    },
    {
     "name": "stderr",
     "output_type": "stream",
     "text": [
      "13it [00:07,  1.73it/s]"
     ]
    },
    {
     "name": "stdout",
     "output_type": "stream",
     "text": [
      "/scratch/hhjs/selfnormalized/Results_trainfeatureextractor/cell_count/none/nce_8/energy_fc_large_bias/adam1e-3/standard_gaussian/seed_0/lightning_logs/version_1/hparams.yaml\n",
      "/scratch/hhjs/selfnormalized/Results_trainfeatureextractor/cell_count/none/nce_8/energy_fc_large_bias/adam1e-3/standard_gaussian/seed_0/lightning_logs/version_1/hparams.yaml\n"
     ]
    },
    {
     "name": "stderr",
     "output_type": "stream",
     "text": [
      "14it [00:08,  1.64it/s]"
     ]
    },
    {
     "name": "stdout",
     "output_type": "stream",
     "text": [
      "/scratch/hhjs/selfnormalized/Results_trainfeatureextractor/cell_count/none/nce_8/energy_fc_large_bias/adam1e-3/standard_gaussian/seed_1/lightning_logs/version_0/hparams.yaml\n",
      "/scratch/hhjs/selfnormalized/Results_trainfeatureextractor/cell_count/none/nce_8/energy_fc_large_bias/adam1e-3/standard_gaussian/seed_1/lightning_logs/version_0/hparams.yaml\n"
     ]
    },
    {
     "name": "stderr",
     "output_type": "stream",
     "text": [
      "15it [00:09,  1.67it/s]"
     ]
    },
    {
     "name": "stdout",
     "output_type": "stream",
     "text": [
      "/scratch/hhjs/selfnormalized/Results_trainfeatureextractor/cell_count/none/nce_8/energy_fc_large_bias/adam1e-3/standard_gaussian/seed_2/lightning_logs/version_0/hparams.yaml\n",
      "/scratch/hhjs/selfnormalized/Results_trainfeatureextractor/cell_count/none/nce_8/energy_fc_large_bias/adam1e-3/standard_gaussian/seed_2/lightning_logs/version_0/hparams.yaml\n",
      "Key test_log_likelihood_self_normalized_mean not in for /scratch/hhjs/selfnormalized/Results_trainfeatureextractor/cell_count/none/nce_8/energy_fc_large_bias/adam1e-3/standard_gaussian/seed_2/lightning_logs/version_0/\n",
      "Key test_log_likelihood_importance_mean not in for /scratch/hhjs/selfnormalized/Results_trainfeatureextractor/cell_count/none/nce_8/energy_fc_large_bias/adam1e-3/standard_gaussian/seed_2/lightning_logs/version_0/\n"
     ]
    },
    {
     "name": "stderr",
     "output_type": "stream",
     "text": [
      "16it [00:09,  1.67it/s]"
     ]
    },
    {
     "name": "stdout",
     "output_type": "stream",
     "text": [
      "/scratch/hhjs/selfnormalized/Results_trainfeatureextractor/cell_count/none/nce_1/energy_fc_large_bias/adam1e-3/standard_gaussian/seed_12/lightning_logs/version_0/hparams.yaml\n",
      "/scratch/hhjs/selfnormalized/Results_trainfeatureextractor/cell_count/none/nce_1/energy_fc_large_bias/adam1e-3/standard_gaussian/seed_12/lightning_logs/version_0/hparams.yaml\n",
      "/scratch/hhjs/selfnormalized/Results_trainfeatureextractor/cell_count/none/nce_1/energy_fc_large_bias/adam1e-3/standard_gaussian/seed_0/lightning_logs/version_0/hparams.yaml\n",
      "/scratch/hhjs/selfnormalized/Results_trainfeatureextractor/cell_count/none/nce_1/energy_fc_large_bias/adam1e-3/standard_gaussian/seed_0/lightning_logs/version_0/hparams.yaml\n"
     ]
    },
    {
     "name": "stderr",
     "output_type": "stream",
     "text": [
      "18it [00:10,  2.16it/s]"
     ]
    },
    {
     "name": "stdout",
     "output_type": "stream",
     "text": [
      "/scratch/hhjs/selfnormalized/Results_trainfeatureextractor/cell_count/none/nce_1/energy_fc_large_bias/adam1e-3/standard_gaussian/seed_0/lightning_logs/version_1/hparams.yaml\n",
      "/scratch/hhjs/selfnormalized/Results_trainfeatureextractor/cell_count/none/nce_1/energy_fc_large_bias/adam1e-3/standard_gaussian/seed_0/lightning_logs/version_1/hparams.yaml\n"
     ]
    },
    {
     "name": "stderr",
     "output_type": "stream",
     "text": [
      "19it [00:10,  2.01it/s]"
     ]
    },
    {
     "name": "stdout",
     "output_type": "stream",
     "text": [
      "/scratch/hhjs/selfnormalized/Results_trainfeatureextractor/cell_count/none/nce_128/energy_fc_large_bias/adam1e-3/standard_gaussian/seed_12/lightning_logs/version_0/hparams.yaml\n",
      "/scratch/hhjs/selfnormalized/Results_trainfeatureextractor/cell_count/none/nce_128/energy_fc_large_bias/adam1e-3/standard_gaussian/seed_12/lightning_logs/version_0/hparams.yaml\n"
     ]
    },
    {
     "name": "stderr",
     "output_type": "stream",
     "text": [
      "20it [00:11,  1.91it/s]"
     ]
    },
    {
     "name": "stdout",
     "output_type": "stream",
     "text": [
      "/scratch/hhjs/selfnormalized/Results_trainfeatureextractor/cell_count/none/nce_128/energy_fc_large_bias/adam1e-3/standard_gaussian/seed_0/lightning_logs/version_0/hparams.yaml\n",
      "/scratch/hhjs/selfnormalized/Results_trainfeatureextractor/cell_count/none/nce_128/energy_fc_large_bias/adam1e-3/standard_gaussian/seed_0/lightning_logs/version_0/hparams.yaml\n"
     ]
    },
    {
     "name": "stderr",
     "output_type": "stream",
     "text": [
      "21it [00:12,  1.83it/s]"
     ]
    },
    {
     "name": "stdout",
     "output_type": "stream",
     "text": [
      "/scratch/hhjs/selfnormalized/Results_trainfeatureextractor/cell_count/none/nce_128/energy_fc_large_bias/adam1e-3/standard_gaussian/seed_1/lightning_logs/version_0/hparams.yaml\n",
      "/scratch/hhjs/selfnormalized/Results_trainfeatureextractor/cell_count/none/nce_128/energy_fc_large_bias/adam1e-3/standard_gaussian/seed_1/lightning_logs/version_0/hparams.yaml\n"
     ]
    },
    {
     "name": "stderr",
     "output_type": "stream",
     "text": [
      "22it [00:12,  1.77it/s]"
     ]
    },
    {
     "name": "stdout",
     "output_type": "stream",
     "text": [
      "/scratch/hhjs/selfnormalized/Results_trainfeatureextractor/cell_count/none/nce_128/energy_fc_large_bias/adam1e-3/standard_gaussian/seed_2/lightning_logs/version_0/hparams.yaml\n",
      "/scratch/hhjs/selfnormalized/Results_trainfeatureextractor/cell_count/none/nce_128/energy_fc_large_bias/adam1e-3/standard_gaussian/seed_2/lightning_logs/version_0/hparams.yaml\n"
     ]
    },
    {
     "name": "stderr",
     "output_type": "stream",
     "text": [
      "23it [00:13,  1.84it/s]"
     ]
    },
    {
     "name": "stdout",
     "output_type": "stream",
     "text": [
      "/scratch/hhjs/selfnormalized/Results_trainfeatureextractor/cell_count/none/nce_128/energy_fc_large_bias/adam1e-3/standard_gaussian/seed_4/lightning_logs/version_0/hparams.yaml\n",
      "/scratch/hhjs/selfnormalized/Results_trainfeatureextractor/cell_count/none/nce_128/energy_fc_large_bias/adam1e-3/standard_gaussian/seed_4/lightning_logs/version_0/hparams.yaml\n",
      "Key test_log_likelihood_self_normalized_mean not in for /scratch/hhjs/selfnormalized/Results_trainfeatureextractor/cell_count/none/nce_128/energy_fc_large_bias/adam1e-3/standard_gaussian/seed_4/lightning_logs/version_0/\n",
      "Key test_log_likelihood_importance_mean not in for /scratch/hhjs/selfnormalized/Results_trainfeatureextractor/cell_count/none/nce_128/energy_fc_large_bias/adam1e-3/standard_gaussian/seed_4/lightning_logs/version_0/\n"
     ]
    },
    {
     "name": "stderr",
     "output_type": "stream",
     "text": [
      "24it [00:13,  1.73it/s]"
     ]
    },
    {
     "name": "stdout",
     "output_type": "stream",
     "text": [
      "/scratch/hhjs/selfnormalized/Results_trainfeatureextractor/cell_count/none/nce_16/energy_fc_large_bias/adam1e-3/standard_gaussian/seed_12/lightning_logs/version_0/hparams.yaml\n",
      "/scratch/hhjs/selfnormalized/Results_trainfeatureextractor/cell_count/none/nce_16/energy_fc_large_bias/adam1e-3/standard_gaussian/seed_12/lightning_logs/version_0/hparams.yaml\n"
     ]
    },
    {
     "name": "stderr",
     "output_type": "stream",
     "text": [
      "25it [00:14,  1.71it/s]"
     ]
    },
    {
     "name": "stdout",
     "output_type": "stream",
     "text": [
      "/scratch/hhjs/selfnormalized/Results_trainfeatureextractor/cell_count/none/nce_16/energy_fc_large_bias/adam1e-3/standard_gaussian/seed_0/lightning_logs/version_0/hparams.yaml\n",
      "/scratch/hhjs/selfnormalized/Results_trainfeatureextractor/cell_count/none/nce_16/energy_fc_large_bias/adam1e-3/standard_gaussian/seed_0/lightning_logs/version_0/hparams.yaml\n"
     ]
    },
    {
     "name": "stderr",
     "output_type": "stream",
     "text": [
      "26it [00:15,  1.68it/s]"
     ]
    },
    {
     "name": "stdout",
     "output_type": "stream",
     "text": [
      "/scratch/hhjs/selfnormalized/Results_trainfeatureextractor/cell_count/none/nce_16/energy_fc_large_bias/adam1e-3/standard_gaussian/seed_1/lightning_logs/version_0/hparams.yaml\n",
      "/scratch/hhjs/selfnormalized/Results_trainfeatureextractor/cell_count/none/nce_16/energy_fc_large_bias/adam1e-3/standard_gaussian/seed_1/lightning_logs/version_0/hparams.yaml\n"
     ]
    },
    {
     "name": "stderr",
     "output_type": "stream",
     "text": [
      "27it [00:15,  1.68it/s]"
     ]
    },
    {
     "name": "stdout",
     "output_type": "stream",
     "text": [
      "/scratch/hhjs/selfnormalized/Results_trainfeatureextractor/cell_count/none/nce_16/energy_fc_large_bias/adam1e-3/standard_gaussian/seed_2/lightning_logs/version_0/hparams.yaml\n",
      "/scratch/hhjs/selfnormalized/Results_trainfeatureextractor/cell_count/none/nce_16/energy_fc_large_bias/adam1e-3/standard_gaussian/seed_2/lightning_logs/version_0/hparams.yaml\n"
     ]
    },
    {
     "name": "stderr",
     "output_type": "stream",
     "text": [
      "28it [00:16,  1.75it/s]"
     ]
    },
    {
     "name": "stdout",
     "output_type": "stream",
     "text": [
      "/scratch/hhjs/selfnormalized/Results_trainfeatureextractor/cell_count/none/nce_16/energy_fc_large_bias/adam1e-3/standard_gaussian/seed_4/lightning_logs/version_0/hparams.yaml\n",
      "/scratch/hhjs/selfnormalized/Results_trainfeatureextractor/cell_count/none/nce_16/energy_fc_large_bias/adam1e-3/standard_gaussian/seed_4/lightning_logs/version_0/hparams.yaml\n",
      "Key test_log_likelihood_self_normalized_mean not in for /scratch/hhjs/selfnormalized/Results_trainfeatureextractor/cell_count/none/nce_16/energy_fc_large_bias/adam1e-3/standard_gaussian/seed_4/lightning_logs/version_0/\n",
      "Key test_log_likelihood_importance_mean not in for /scratch/hhjs/selfnormalized/Results_trainfeatureextractor/cell_count/none/nce_16/energy_fc_large_bias/adam1e-3/standard_gaussian/seed_4/lightning_logs/version_0/\n"
     ]
    },
    {
     "name": "stderr",
     "output_type": "stream",
     "text": [
      "29it [00:16,  1.72it/s]"
     ]
    },
    {
     "name": "stdout",
     "output_type": "stream",
     "text": [
      "/scratch/hhjs/selfnormalized/Results_trainfeatureextractor/cell_count/none/nce_64/energy_fc_large_bias/adam1e-3/standard_gaussian/seed_12/lightning_logs/version_0/hparams.yaml\n",
      "/scratch/hhjs/selfnormalized/Results_trainfeatureextractor/cell_count/none/nce_64/energy_fc_large_bias/adam1e-3/standard_gaussian/seed_12/lightning_logs/version_0/hparams.yaml\n"
     ]
    },
    {
     "name": "stderr",
     "output_type": "stream",
     "text": [
      "30it [00:17,  1.71it/s]"
     ]
    },
    {
     "name": "stdout",
     "output_type": "stream",
     "text": [
      "/scratch/hhjs/selfnormalized/Results_trainfeatureextractor/cell_count/none/nce_64/energy_fc_large_bias/adam1e-3/standard_gaussian/seed_0/lightning_logs/version_0/hparams.yaml\n",
      "/scratch/hhjs/selfnormalized/Results_trainfeatureextractor/cell_count/none/nce_64/energy_fc_large_bias/adam1e-3/standard_gaussian/seed_0/lightning_logs/version_0/hparams.yaml\n"
     ]
    },
    {
     "name": "stderr",
     "output_type": "stream",
     "text": [
      "31it [00:17,  1.69it/s]"
     ]
    },
    {
     "name": "stdout",
     "output_type": "stream",
     "text": [
      "/scratch/hhjs/selfnormalized/Results_trainfeatureextractor/cell_count/none/nce_64/energy_fc_large_bias/adam1e-3/standard_gaussian/seed_1/lightning_logs/version_0/hparams.yaml\n",
      "/scratch/hhjs/selfnormalized/Results_trainfeatureextractor/cell_count/none/nce_64/energy_fc_large_bias/adam1e-3/standard_gaussian/seed_1/lightning_logs/version_0/hparams.yaml\n"
     ]
    },
    {
     "name": "stderr",
     "output_type": "stream",
     "text": [
      "32it [00:18,  1.62it/s]"
     ]
    },
    {
     "name": "stdout",
     "output_type": "stream",
     "text": [
      "/scratch/hhjs/selfnormalized/Results_trainfeatureextractor/cell_count/none/nce_64/energy_fc_large_bias/adam1e-3/standard_gaussian/seed_2/lightning_logs/version_0/hparams.yaml\n",
      "/scratch/hhjs/selfnormalized/Results_trainfeatureextractor/cell_count/none/nce_64/energy_fc_large_bias/adam1e-3/standard_gaussian/seed_2/lightning_logs/version_0/hparams.yaml\n"
     ]
    },
    {
     "name": "stderr",
     "output_type": "stream",
     "text": [
      "33it [00:19,  1.77it/s]"
     ]
    },
    {
     "name": "stdout",
     "output_type": "stream",
     "text": [
      "/scratch/hhjs/selfnormalized/Results_trainfeatureextractor/cell_count/none/nce_64/energy_fc_large_bias/adam1e-3/standard_gaussian/seed_4/lightning_logs/version_0/hparams.yaml\n",
      "/scratch/hhjs/selfnormalized/Results_trainfeatureextractor/cell_count/none/nce_64/energy_fc_large_bias/adam1e-3/standard_gaussian/seed_4/lightning_logs/version_0/hparams.yaml\n",
      "Key test_log_likelihood_self_normalized_mean not in for /scratch/hhjs/selfnormalized/Results_trainfeatureextractor/cell_count/none/nce_64/energy_fc_large_bias/adam1e-3/standard_gaussian/seed_4/lightning_logs/version_0/\n",
      "Key test_log_likelihood_importance_mean not in for /scratch/hhjs/selfnormalized/Results_trainfeatureextractor/cell_count/none/nce_64/energy_fc_large_bias/adam1e-3/standard_gaussian/seed_4/lightning_logs/version_0/\n"
     ]
    },
    {
     "name": "stderr",
     "output_type": "stream",
     "text": [
      "34it [00:19,  1.74it/s]"
     ]
    },
    {
     "name": "stdout",
     "output_type": "stream",
     "text": [
      "/scratch/hhjs/selfnormalized/Results_trainfeatureextractor/cell_count/none/nce_32/energy_fc_large_bias/adam1e-3/standard_gaussian/seed_12/lightning_logs/version_0/hparams.yaml\n",
      "/scratch/hhjs/selfnormalized/Results_trainfeatureextractor/cell_count/none/nce_32/energy_fc_large_bias/adam1e-3/standard_gaussian/seed_12/lightning_logs/version_0/hparams.yaml\n"
     ]
    },
    {
     "name": "stderr",
     "output_type": "stream",
     "text": [
      "35it [00:20,  1.71it/s]"
     ]
    },
    {
     "name": "stdout",
     "output_type": "stream",
     "text": [
      "/scratch/hhjs/selfnormalized/Results_trainfeatureextractor/cell_count/none/nce_32/energy_fc_large_bias/adam1e-3/standard_gaussian/seed_0/lightning_logs/version_0/hparams.yaml\n",
      "/scratch/hhjs/selfnormalized/Results_trainfeatureextractor/cell_count/none/nce_32/energy_fc_large_bias/adam1e-3/standard_gaussian/seed_0/lightning_logs/version_0/hparams.yaml\n"
     ]
    },
    {
     "name": "stderr",
     "output_type": "stream",
     "text": [
      "36it [00:20,  1.71it/s]"
     ]
    },
    {
     "name": "stdout",
     "output_type": "stream",
     "text": [
      "/scratch/hhjs/selfnormalized/Results_trainfeatureextractor/cell_count/none/nce_32/energy_fc_large_bias/adam1e-3/standard_gaussian/seed_1/lightning_logs/version_0/hparams.yaml\n",
      "/scratch/hhjs/selfnormalized/Results_trainfeatureextractor/cell_count/none/nce_32/energy_fc_large_bias/adam1e-3/standard_gaussian/seed_1/lightning_logs/version_0/hparams.yaml\n"
     ]
    },
    {
     "name": "stderr",
     "output_type": "stream",
     "text": [
      "37it [00:21,  1.71it/s]"
     ]
    },
    {
     "name": "stdout",
     "output_type": "stream",
     "text": [
      "/scratch/hhjs/selfnormalized/Results_trainfeatureextractor/cell_count/none/nce_32/energy_fc_large_bias/adam1e-3/standard_gaussian/seed_2/lightning_logs/version_0/hparams.yaml\n",
      "/scratch/hhjs/selfnormalized/Results_trainfeatureextractor/cell_count/none/nce_32/energy_fc_large_bias/adam1e-3/standard_gaussian/seed_2/lightning_logs/version_0/hparams.yaml\n"
     ]
    },
    {
     "name": "stderr",
     "output_type": "stream",
     "text": [
      "38it [00:21,  1.74it/s]"
     ]
    },
    {
     "name": "stdout",
     "output_type": "stream",
     "text": [
      "/scratch/hhjs/selfnormalized/Results_trainfeatureextractor/cell_count/none/nce_32/energy_fc_large_bias/adam1e-3/standard_gaussian/seed_4/lightning_logs/version_0/hparams.yaml\n",
      "/scratch/hhjs/selfnormalized/Results_trainfeatureextractor/cell_count/none/nce_32/energy_fc_large_bias/adam1e-3/standard_gaussian/seed_4/lightning_logs/version_0/hparams.yaml\n",
      "Key test_log_likelihood_self_normalized_mean not in for /scratch/hhjs/selfnormalized/Results_trainfeatureextractor/cell_count/none/nce_32/energy_fc_large_bias/adam1e-3/standard_gaussian/seed_4/lightning_logs/version_0/\n",
      "Key test_log_likelihood_importance_mean not in for /scratch/hhjs/selfnormalized/Results_trainfeatureextractor/cell_count/none/nce_32/energy_fc_large_bias/adam1e-3/standard_gaussian/seed_4/lightning_logs/version_0/\n"
     ]
    },
    {
     "name": "stderr",
     "output_type": "stream",
     "text": [
      "\n"
     ]
    }
   ],
   "source": [
    "keys = ['test_log_likelihood_self_normalized_mean', 'test_log_likelihood_importance_mean']\n",
    "dictionnary_values = get_single_value(keys, dictionnary_params)"
   ]
  },
  {
   "cell_type": "code",
   "execution_count": 7,
   "metadata": {},
   "outputs": [
    {
     "name": "stdout",
     "output_type": "stream",
     "text": [
      "base_dist\n",
      "38\n",
      "training_type\n",
      "38\n",
      "network\n",
      "38\n",
      "optimizer\n",
      "38\n",
      "proposal\n",
      "38\n",
      "seed\n",
      "38\n",
      "lightning_logs\n",
      "38\n",
      "version\n",
      "38\n",
      "folder_event\n",
      "38\n",
      "test_log_likelihood_self_normalized_mean\n",
      "38\n",
      "test_log_likelihood_self_normalized_mean_last_step\n",
      "38\n",
      "test_log_likelihood_importance_mean\n",
      "38\n",
      "test_log_likelihood_importance_mean_last_step\n",
      "38\n"
     ]
    }
   ],
   "source": [
    "# print(dictionnary_values['base_dist'])\n",
    "# print(dictionnary_values['test_log_likelihood_self_normalized_mean'])\n",
    "for key in dictionnary_values.keys():\n",
    "    print(key)\n",
    "    print(len(dictionnary_values[key]))"
   ]
  },
  {
   "cell_type": "code",
   "execution_count": 8,
   "metadata": {},
   "outputs": [
    {
     "name": "stdout",
     "output_type": "stream",
     "text": [
      "   base_dist training_type               network optimizer           proposal  \\\n",
      "0   proposal         nce_1  energy_fc_large_bias  adam1e-3  standard_gaussian   \n",
      "1   proposal         nce_1  energy_fc_large_bias  adam1e-3  standard_gaussian   \n",
      "2   proposal         nce_1  energy_fc_large_bias  adam1e-3  standard_gaussian   \n",
      "3   proposal         nce_1  energy_fc_large_bias  adam1e-3  standard_gaussian   \n",
      "4   proposal         nce_8  energy_fc_large_bias  adam1e-3  standard_gaussian   \n",
      "5   proposal        nce_16  energy_fc_large_bias  adam1e-3  standard_gaussian   \n",
      "6   proposal        nce_32  energy_fc_large_bias  adam1e-3  standard_gaussian   \n",
      "7   proposal        nce_64  energy_fc_large_bias  adam1e-3  standard_gaussian   \n",
      "8   proposal       nce_128  energy_fc_large_bias  adam1e-3  standard_gaussian   \n",
      "9       None          None      gy_fc_large_bias  adam1e-3            uniform   \n",
      "10      None             8  energy_fc_large_bias  adam1e-3  standard_gaussian   \n",
      "11      None             8  energy_fc_large_bias  adam1e-3  standard_gaussian   \n",
      "12      None             8  energy_fc_large_bias  adam1e-3  standard_gaussian   \n",
      "13      None             8  energy_fc_large_bias  adam1e-3  standard_gaussian   \n",
      "14      None             8  energy_fc_large_bias  adam1e-3  standard_gaussian   \n",
      "15      None             1  energy_fc_large_bias  adam1e-3  standard_gaussian   \n",
      "16      None             1  energy_fc_large_bias  adam1e-3  standard_gaussian   \n",
      "17      None             1  energy_fc_large_bias  adam1e-3  standard_gaussian   \n",
      "18      None           128  energy_fc_large_bias  adam1e-3  standard_gaussian   \n",
      "19      None           128  energy_fc_large_bias  adam1e-3  standard_gaussian   \n",
      "20      None           128  energy_fc_large_bias  adam1e-3  standard_gaussian   \n",
      "21      None           128  energy_fc_large_bias  adam1e-3  standard_gaussian   \n",
      "22      None           128  energy_fc_large_bias  adam1e-3  standard_gaussian   \n",
      "23      None            16  energy_fc_large_bias  adam1e-3  standard_gaussian   \n",
      "24      None            16  energy_fc_large_bias  adam1e-3  standard_gaussian   \n",
      "25      None            16  energy_fc_large_bias  adam1e-3  standard_gaussian   \n",
      "26      None            16  energy_fc_large_bias  adam1e-3  standard_gaussian   \n",
      "27      None            16  energy_fc_large_bias  adam1e-3  standard_gaussian   \n",
      "28      None            64  energy_fc_large_bias  adam1e-3  standard_gaussian   \n",
      "29      None            64  energy_fc_large_bias  adam1e-3  standard_gaussian   \n",
      "30      None            64  energy_fc_large_bias  adam1e-3  standard_gaussian   \n",
      "31      None            64  energy_fc_large_bias  adam1e-3  standard_gaussian   \n",
      "32      None            64  energy_fc_large_bias  adam1e-3  standard_gaussian   \n",
      "33      None            32  energy_fc_large_bias  adam1e-3  standard_gaussian   \n",
      "34      None            32  energy_fc_large_bias  adam1e-3  standard_gaussian   \n",
      "35      None            32  energy_fc_large_bias  adam1e-3  standard_gaussian   \n",
      "36      None            32  energy_fc_large_bias  adam1e-3  standard_gaussian   \n",
      "37      None            32  energy_fc_large_bias  adam1e-3  standard_gaussian   \n",
      "\n",
      "       seed  lightning_logs    version  \\\n",
      "0   seed_12  lightning_logs  version_0   \n",
      "1    seed_0  lightning_logs  version_0   \n",
      "2    seed_1  lightning_logs  version_0   \n",
      "3    seed_2  lightning_logs  version_0   \n",
      "4   seed_12  lightning_logs  version_0   \n",
      "5   seed_12  lightning_logs  version_0   \n",
      "6   seed_12  lightning_logs  version_0   \n",
      "7   seed_12  lightning_logs  version_0   \n",
      "8   seed_12  lightning_logs  version_0   \n",
      "9   seed_12  lightning_logs  version_0   \n",
      "10  seed_12  lightning_logs  version_0   \n",
      "11   seed_0  lightning_logs  version_0   \n",
      "12   seed_0  lightning_logs  version_1   \n",
      "13   seed_1  lightning_logs  version_0   \n",
      "14   seed_2  lightning_logs  version_0   \n",
      "15  seed_12  lightning_logs  version_0   \n",
      "16   seed_0  lightning_logs  version_0   \n",
      "17   seed_0  lightning_logs  version_1   \n",
      "18  seed_12  lightning_logs  version_0   \n",
      "19   seed_0  lightning_logs  version_0   \n",
      "20   seed_1  lightning_logs  version_0   \n",
      "21   seed_2  lightning_logs  version_0   \n",
      "22   seed_4  lightning_logs  version_0   \n",
      "23  seed_12  lightning_logs  version_0   \n",
      "24   seed_0  lightning_logs  version_0   \n",
      "25   seed_1  lightning_logs  version_0   \n",
      "26   seed_2  lightning_logs  version_0   \n",
      "27   seed_4  lightning_logs  version_0   \n",
      "28  seed_12  lightning_logs  version_0   \n",
      "29   seed_0  lightning_logs  version_0   \n",
      "30   seed_1  lightning_logs  version_0   \n",
      "31   seed_2  lightning_logs  version_0   \n",
      "32   seed_4  lightning_logs  version_0   \n",
      "33  seed_12  lightning_logs  version_0   \n",
      "34   seed_0  lightning_logs  version_0   \n",
      "35   seed_1  lightning_logs  version_0   \n",
      "36   seed_2  lightning_logs  version_0   \n",
      "37   seed_4  lightning_logs  version_0   \n",
      "\n",
      "                                         folder_event  \\\n",
      "0   /scratch/hhjs/selfnormalized/Results_trainfeat...   \n",
      "1   /scratch/hhjs/selfnormalized/Results_trainfeat...   \n",
      "2   /scratch/hhjs/selfnormalized/Results_trainfeat...   \n",
      "3   /scratch/hhjs/selfnormalized/Results_trainfeat...   \n",
      "4   /scratch/hhjs/selfnormalized/Results_trainfeat...   \n",
      "5   /scratch/hhjs/selfnormalized/Results_trainfeat...   \n",
      "6   /scratch/hhjs/selfnormalized/Results_trainfeat...   \n",
      "7   /scratch/hhjs/selfnormalized/Results_trainfeat...   \n",
      "8   /scratch/hhjs/selfnormalized/Results_trainfeat...   \n",
      "9   /scratch/hhjs/selfnormalized/Results_trainfeat...   \n",
      "10  /scratch/hhjs/selfnormalized/Results_trainfeat...   \n",
      "11  /scratch/hhjs/selfnormalized/Results_trainfeat...   \n",
      "12  /scratch/hhjs/selfnormalized/Results_trainfeat...   \n",
      "13  /scratch/hhjs/selfnormalized/Results_trainfeat...   \n",
      "14  /scratch/hhjs/selfnormalized/Results_trainfeat...   \n",
      "15  /scratch/hhjs/selfnormalized/Results_trainfeat...   \n",
      "16  /scratch/hhjs/selfnormalized/Results_trainfeat...   \n",
      "17  /scratch/hhjs/selfnormalized/Results_trainfeat...   \n",
      "18  /scratch/hhjs/selfnormalized/Results_trainfeat...   \n",
      "19  /scratch/hhjs/selfnormalized/Results_trainfeat...   \n",
      "20  /scratch/hhjs/selfnormalized/Results_trainfeat...   \n",
      "21  /scratch/hhjs/selfnormalized/Results_trainfeat...   \n",
      "22  /scratch/hhjs/selfnormalized/Results_trainfeat...   \n",
      "23  /scratch/hhjs/selfnormalized/Results_trainfeat...   \n",
      "24  /scratch/hhjs/selfnormalized/Results_trainfeat...   \n",
      "25  /scratch/hhjs/selfnormalized/Results_trainfeat...   \n",
      "26  /scratch/hhjs/selfnormalized/Results_trainfeat...   \n",
      "27  /scratch/hhjs/selfnormalized/Results_trainfeat...   \n",
      "28  /scratch/hhjs/selfnormalized/Results_trainfeat...   \n",
      "29  /scratch/hhjs/selfnormalized/Results_trainfeat...   \n",
      "30  /scratch/hhjs/selfnormalized/Results_trainfeat...   \n",
      "31  /scratch/hhjs/selfnormalized/Results_trainfeat...   \n",
      "32  /scratch/hhjs/selfnormalized/Results_trainfeat...   \n",
      "33  /scratch/hhjs/selfnormalized/Results_trainfeat...   \n",
      "34  /scratch/hhjs/selfnormalized/Results_trainfeat...   \n",
      "35  /scratch/hhjs/selfnormalized/Results_trainfeat...   \n",
      "36  /scratch/hhjs/selfnormalized/Results_trainfeat...   \n",
      "37  /scratch/hhjs/selfnormalized/Results_trainfeat...   \n",
      "\n",
      "    test_log_likelihood_self_normalized_mean  \\\n",
      "0                                  -9.781830   \n",
      "1                                  -9.833609   \n",
      "2                                  -9.762780   \n",
      "3                                        NaN   \n",
      "4                                 -17.159302   \n",
      "5                                 -16.703133   \n",
      "6                                 -14.927718   \n",
      "7                                 -16.947445   \n",
      "8                                 -19.207354   \n",
      "9                                        NaN   \n",
      "10                                -10.508129   \n",
      "11                                 -9.152591   \n",
      "12                                 -9.152591   \n",
      "13                                 -7.731316   \n",
      "14                                       NaN   \n",
      "15                                 -6.913142   \n",
      "16                                       NaN   \n",
      "17                                 -3.809064   \n",
      "18                                -23.316908   \n",
      "19                                -16.127907   \n",
      "20                                -13.437876   \n",
      "21                                -12.615180   \n",
      "22                                       NaN   \n",
      "23                                 -9.646219   \n",
      "24                                -11.089791   \n",
      "25                                -10.575831   \n",
      "26                                -10.516716   \n",
      "27                                       NaN   \n",
      "28                               -117.488785   \n",
      "29                                -30.410072   \n",
      "30                                -14.967485   \n",
      "31                                -13.491360   \n",
      "32                                       NaN   \n",
      "33                                -12.231964   \n",
      "34                                -12.241546   \n",
      "35                                 -9.633404   \n",
      "36                                 -8.514983   \n",
      "37                                       NaN   \n",
      "\n",
      "    test_log_likelihood_self_normalized_mean_last_step  \\\n",
      "0                                             23475.0    \n",
      "1                                             23475.0    \n",
      "2                                             23475.0    \n",
      "3                                                 NaN    \n",
      "4                                             23475.0    \n",
      "5                                             23475.0    \n",
      "6                                             23475.0    \n",
      "7                                             23475.0    \n",
      "8                                             23475.0    \n",
      "9                                                 NaN    \n",
      "10                                            23475.0    \n",
      "11                                            23475.0    \n",
      "12                                            23475.0    \n",
      "13                                            23475.0    \n",
      "14                                                NaN    \n",
      "15                                            23475.0    \n",
      "16                                                NaN    \n",
      "17                                            23475.0    \n",
      "18                                            23475.0    \n",
      "19                                            23475.0    \n",
      "20                                            23475.0    \n",
      "21                                            23475.0    \n",
      "22                                                NaN    \n",
      "23                                            23475.0    \n",
      "24                                            23475.0    \n",
      "25                                            23475.0    \n",
      "26                                            23475.0    \n",
      "27                                                NaN    \n",
      "28                                            23475.0    \n",
      "29                                            23475.0    \n",
      "30                                            23475.0    \n",
      "31                                            23475.0    \n",
      "32                                                NaN    \n",
      "33                                            23475.0    \n",
      "34                                            23475.0    \n",
      "35                                            23475.0    \n",
      "36                                            23475.0    \n",
      "37                                                NaN    \n",
      "\n",
      "    test_log_likelihood_importance_mean  \\\n",
      "0                             -4.638404   \n",
      "1                             -4.490812   \n",
      "2                             -4.354354   \n",
      "3                                   NaN   \n",
      "4                             -4.355353   \n",
      "5                             -3.821213   \n",
      "6                             -3.761209   \n",
      "7                             -4.319571   \n",
      "8                             -3.656829   \n",
      "9                                   NaN   \n",
      "10                            -3.234964   \n",
      "11                            -3.065452   \n",
      "12                            -3.065452   \n",
      "13                            -3.583544   \n",
      "14                                  NaN   \n",
      "15                            -3.921036   \n",
      "16                                  NaN   \n",
      "17                            -3.191087   \n",
      "18                            -3.051714   \n",
      "19                            -3.808747   \n",
      "20                            -3.764396   \n",
      "21                            -2.905520   \n",
      "22                                  NaN   \n",
      "23                            -3.846261   \n",
      "24                            -3.791948   \n",
      "25                            -3.802411   \n",
      "26                            -3.233189   \n",
      "27                                  NaN   \n",
      "28                            -3.512874   \n",
      "29                            -3.545221   \n",
      "30                            -3.790973   \n",
      "31                            -3.780272   \n",
      "32                                  NaN   \n",
      "33                            -3.132445   \n",
      "34                            -3.880140   \n",
      "35                            -3.751022   \n",
      "36                            -2.998684   \n",
      "37                                  NaN   \n",
      "\n",
      "    test_log_likelihood_importance_mean_last_step  \n",
      "0                                         23475.0  \n",
      "1                                         23475.0  \n",
      "2                                         23475.0  \n",
      "3                                             NaN  \n",
      "4                                         23475.0  \n",
      "5                                         23475.0  \n",
      "6                                         23475.0  \n",
      "7                                         23475.0  \n",
      "8                                         23475.0  \n",
      "9                                             NaN  \n",
      "10                                        23475.0  \n",
      "11                                        23475.0  \n",
      "12                                        23475.0  \n",
      "13                                        23475.0  \n",
      "14                                            NaN  \n",
      "15                                        23475.0  \n",
      "16                                            NaN  \n",
      "17                                        23475.0  \n",
      "18                                        23475.0  \n",
      "19                                        23475.0  \n",
      "20                                        23475.0  \n",
      "21                                        23475.0  \n",
      "22                                            NaN  \n",
      "23                                        23475.0  \n",
      "24                                        23475.0  \n",
      "25                                        23475.0  \n",
      "26                                        23475.0  \n",
      "27                                            NaN  \n",
      "28                                        23475.0  \n",
      "29                                        23475.0  \n",
      "30                                        23475.0  \n",
      "31                                        23475.0  \n",
      "32                                            NaN  \n",
      "33                                        23475.0  \n",
      "34                                        23475.0  \n",
      "35                                        23475.0  \n",
      "36                                        23475.0  \n",
      "37                                            NaN  \n"
     ]
    }
   ],
   "source": [
    "aux_df = pd.DataFrame(dictionnary_values)\n",
    "print(aux_df)"
   ]
  },
  {
   "cell_type": "code",
   "execution_count": 13,
   "metadata": {},
   "outputs": [],
   "source": [
    "# aux_df = aux_df.sort_values(by=['training_type'], ascending=False)\n",
    "# calculate mean and std per parameters\n",
    "keys_extended = keys + [key+'_last_step' for key in keys]\n",
    "grouped_aux_df = aux_df.groupby(['training_type','network', 'optimizer', 'proposal', 'base_dist'], as_index=False).agg({key : ['mean', 'std', 'count', 'min', 'max'] for key in keys_extended })"
   ]
  },
  {
   "cell_type": "code",
   "execution_count": 14,
   "metadata": {},
   "outputs": [
    {
     "data": {
      "text/html": [
       "<div>\n",
       "<style scoped>\n",
       "    .dataframe tbody tr th:only-of-type {\n",
       "        vertical-align: middle;\n",
       "    }\n",
       "\n",
       "    .dataframe tbody tr th {\n",
       "        vertical-align: top;\n",
       "    }\n",
       "\n",
       "    .dataframe thead tr th {\n",
       "        text-align: left;\n",
       "    }\n",
       "</style>\n",
       "<table border=\"1\" class=\"dataframe\">\n",
       "  <thead>\n",
       "    <tr>\n",
       "      <th></th>\n",
       "      <th>training_type</th>\n",
       "      <th>network</th>\n",
       "      <th>optimizer</th>\n",
       "      <th>proposal</th>\n",
       "      <th>base_dist</th>\n",
       "      <th colspan=\"5\" halign=\"left\">test_log_likelihood_self_normalized_mean</th>\n",
       "      <th colspan=\"5\" halign=\"left\">test_log_likelihood_importance_mean</th>\n",
       "      <th colspan=\"5\" halign=\"left\">test_log_likelihood_self_normalized_mean_last_step</th>\n",
       "      <th colspan=\"5\" halign=\"left\">test_log_likelihood_importance_mean_last_step</th>\n",
       "    </tr>\n",
       "    <tr>\n",
       "      <th></th>\n",
       "      <th></th>\n",
       "      <th></th>\n",
       "      <th></th>\n",
       "      <th></th>\n",
       "      <th></th>\n",
       "      <th>mean</th>\n",
       "      <th>std</th>\n",
       "      <th>count</th>\n",
       "      <th>min</th>\n",
       "      <th>max</th>\n",
       "      <th>mean</th>\n",
       "      <th>std</th>\n",
       "      <th>count</th>\n",
       "      <th>min</th>\n",
       "      <th>max</th>\n",
       "      <th>mean</th>\n",
       "      <th>std</th>\n",
       "      <th>count</th>\n",
       "      <th>min</th>\n",
       "      <th>max</th>\n",
       "      <th>mean</th>\n",
       "      <th>std</th>\n",
       "      <th>count</th>\n",
       "      <th>min</th>\n",
       "      <th>max</th>\n",
       "    </tr>\n",
       "  </thead>\n",
       "  <tbody>\n",
       "    <tr>\n",
       "      <th>0</th>\n",
       "      <td>1</td>\n",
       "      <td>energy_fc_large_bias</td>\n",
       "      <td>adam1e-3</td>\n",
       "      <td>standard_gaussian</td>\n",
       "      <td>None</td>\n",
       "      <td>-5.361103</td>\n",
       "      <td>2.194915</td>\n",
       "      <td>2</td>\n",
       "      <td>-6.913142</td>\n",
       "      <td>-3.809064</td>\n",
       "      <td>-3.556061</td>\n",
       "      <td>0.516151</td>\n",
       "      <td>2</td>\n",
       "      <td>-3.921036</td>\n",
       "      <td>-3.191087</td>\n",
       "      <td>23475.0</td>\n",
       "      <td>0.0</td>\n",
       "      <td>2</td>\n",
       "      <td>23475.0</td>\n",
       "      <td>23475.0</td>\n",
       "      <td>23475.0</td>\n",
       "      <td>0.0</td>\n",
       "      <td>2</td>\n",
       "      <td>23475.0</td>\n",
       "      <td>23475.0</td>\n",
       "    </tr>\n",
       "    <tr>\n",
       "      <th>1</th>\n",
       "      <td>128</td>\n",
       "      <td>energy_fc_large_bias</td>\n",
       "      <td>adam1e-3</td>\n",
       "      <td>standard_gaussian</td>\n",
       "      <td>None</td>\n",
       "      <td>-16.374468</td>\n",
       "      <td>4.865322</td>\n",
       "      <td>4</td>\n",
       "      <td>-23.316908</td>\n",
       "      <td>-12.615180</td>\n",
       "      <td>-3.382594</td>\n",
       "      <td>0.470624</td>\n",
       "      <td>4</td>\n",
       "      <td>-3.808747</td>\n",
       "      <td>-2.905520</td>\n",
       "      <td>23475.0</td>\n",
       "      <td>0.0</td>\n",
       "      <td>4</td>\n",
       "      <td>23475.0</td>\n",
       "      <td>23475.0</td>\n",
       "      <td>23475.0</td>\n",
       "      <td>0.0</td>\n",
       "      <td>4</td>\n",
       "      <td>23475.0</td>\n",
       "      <td>23475.0</td>\n",
       "    </tr>\n",
       "    <tr>\n",
       "      <th>2</th>\n",
       "      <td>16</td>\n",
       "      <td>energy_fc_large_bias</td>\n",
       "      <td>adam1e-3</td>\n",
       "      <td>standard_gaussian</td>\n",
       "      <td>None</td>\n",
       "      <td>-10.457139</td>\n",
       "      <td>0.598742</td>\n",
       "      <td>4</td>\n",
       "      <td>-11.089791</td>\n",
       "      <td>-9.646219</td>\n",
       "      <td>-3.668452</td>\n",
       "      <td>0.291128</td>\n",
       "      <td>4</td>\n",
       "      <td>-3.846261</td>\n",
       "      <td>-3.233189</td>\n",
       "      <td>23475.0</td>\n",
       "      <td>0.0</td>\n",
       "      <td>4</td>\n",
       "      <td>23475.0</td>\n",
       "      <td>23475.0</td>\n",
       "      <td>23475.0</td>\n",
       "      <td>0.0</td>\n",
       "      <td>4</td>\n",
       "      <td>23475.0</td>\n",
       "      <td>23475.0</td>\n",
       "    </tr>\n",
       "    <tr>\n",
       "      <th>3</th>\n",
       "      <td>32</td>\n",
       "      <td>energy_fc_large_bias</td>\n",
       "      <td>adam1e-3</td>\n",
       "      <td>standard_gaussian</td>\n",
       "      <td>None</td>\n",
       "      <td>-10.655474</td>\n",
       "      <td>1.882133</td>\n",
       "      <td>4</td>\n",
       "      <td>-12.241546</td>\n",
       "      <td>-8.514983</td>\n",
       "      <td>-3.440573</td>\n",
       "      <td>0.439623</td>\n",
       "      <td>4</td>\n",
       "      <td>-3.880140</td>\n",
       "      <td>-2.998684</td>\n",
       "      <td>23475.0</td>\n",
       "      <td>0.0</td>\n",
       "      <td>4</td>\n",
       "      <td>23475.0</td>\n",
       "      <td>23475.0</td>\n",
       "      <td>23475.0</td>\n",
       "      <td>0.0</td>\n",
       "      <td>4</td>\n",
       "      <td>23475.0</td>\n",
       "      <td>23475.0</td>\n",
       "    </tr>\n",
       "    <tr>\n",
       "      <th>4</th>\n",
       "      <td>64</td>\n",
       "      <td>energy_fc_large_bias</td>\n",
       "      <td>adam1e-3</td>\n",
       "      <td>standard_gaussian</td>\n",
       "      <td>None</td>\n",
       "      <td>-44.089426</td>\n",
       "      <td>49.527500</td>\n",
       "      <td>4</td>\n",
       "      <td>-117.488785</td>\n",
       "      <td>-13.491360</td>\n",
       "      <td>-3.657335</td>\n",
       "      <td>0.148785</td>\n",
       "      <td>4</td>\n",
       "      <td>-3.790973</td>\n",
       "      <td>-3.512874</td>\n",
       "      <td>23475.0</td>\n",
       "      <td>0.0</td>\n",
       "      <td>4</td>\n",
       "      <td>23475.0</td>\n",
       "      <td>23475.0</td>\n",
       "      <td>23475.0</td>\n",
       "      <td>0.0</td>\n",
       "      <td>4</td>\n",
       "      <td>23475.0</td>\n",
       "      <td>23475.0</td>\n",
       "    </tr>\n",
       "    <tr>\n",
       "      <th>5</th>\n",
       "      <td>8</td>\n",
       "      <td>energy_fc_large_bias</td>\n",
       "      <td>adam1e-3</td>\n",
       "      <td>standard_gaussian</td>\n",
       "      <td>None</td>\n",
       "      <td>-9.136157</td>\n",
       "      <td>1.133788</td>\n",
       "      <td>4</td>\n",
       "      <td>-10.508129</td>\n",
       "      <td>-7.731316</td>\n",
       "      <td>-3.237353</td>\n",
       "      <td>0.244236</td>\n",
       "      <td>4</td>\n",
       "      <td>-3.583544</td>\n",
       "      <td>-3.065452</td>\n",
       "      <td>23475.0</td>\n",
       "      <td>0.0</td>\n",
       "      <td>4</td>\n",
       "      <td>23475.0</td>\n",
       "      <td>23475.0</td>\n",
       "      <td>23475.0</td>\n",
       "      <td>0.0</td>\n",
       "      <td>4</td>\n",
       "      <td>23475.0</td>\n",
       "      <td>23475.0</td>\n",
       "    </tr>\n",
       "    <tr>\n",
       "      <th>6</th>\n",
       "      <td>None</td>\n",
       "      <td>gy_fc_large_bias</td>\n",
       "      <td>adam1e-3</td>\n",
       "      <td>uniform</td>\n",
       "      <td>None</td>\n",
       "      <td>NaN</td>\n",
       "      <td>NaN</td>\n",
       "      <td>0</td>\n",
       "      <td>NaN</td>\n",
       "      <td>NaN</td>\n",
       "      <td>NaN</td>\n",
       "      <td>NaN</td>\n",
       "      <td>0</td>\n",
       "      <td>NaN</td>\n",
       "      <td>NaN</td>\n",
       "      <td>NaN</td>\n",
       "      <td>NaN</td>\n",
       "      <td>0</td>\n",
       "      <td>NaN</td>\n",
       "      <td>NaN</td>\n",
       "      <td>NaN</td>\n",
       "      <td>NaN</td>\n",
       "      <td>0</td>\n",
       "      <td>NaN</td>\n",
       "      <td>NaN</td>\n",
       "    </tr>\n",
       "    <tr>\n",
       "      <th>7</th>\n",
       "      <td>nce_1</td>\n",
       "      <td>energy_fc_large_bias</td>\n",
       "      <td>adam1e-3</td>\n",
       "      <td>standard_gaussian</td>\n",
       "      <td>proposal</td>\n",
       "      <td>-9.792740</td>\n",
       "      <td>0.036653</td>\n",
       "      <td>3</td>\n",
       "      <td>-9.833609</td>\n",
       "      <td>-9.762780</td>\n",
       "      <td>-4.494524</td>\n",
       "      <td>0.142062</td>\n",
       "      <td>3</td>\n",
       "      <td>-4.638404</td>\n",
       "      <td>-4.354354</td>\n",
       "      <td>23475.0</td>\n",
       "      <td>0.0</td>\n",
       "      <td>3</td>\n",
       "      <td>23475.0</td>\n",
       "      <td>23475.0</td>\n",
       "      <td>23475.0</td>\n",
       "      <td>0.0</td>\n",
       "      <td>3</td>\n",
       "      <td>23475.0</td>\n",
       "      <td>23475.0</td>\n",
       "    </tr>\n",
       "    <tr>\n",
       "      <th>8</th>\n",
       "      <td>nce_128</td>\n",
       "      <td>energy_fc_large_bias</td>\n",
       "      <td>adam1e-3</td>\n",
       "      <td>standard_gaussian</td>\n",
       "      <td>proposal</td>\n",
       "      <td>-19.207354</td>\n",
       "      <td>NaN</td>\n",
       "      <td>1</td>\n",
       "      <td>-19.207354</td>\n",
       "      <td>-19.207354</td>\n",
       "      <td>-3.656829</td>\n",
       "      <td>NaN</td>\n",
       "      <td>1</td>\n",
       "      <td>-3.656829</td>\n",
       "      <td>-3.656829</td>\n",
       "      <td>23475.0</td>\n",
       "      <td>NaN</td>\n",
       "      <td>1</td>\n",
       "      <td>23475.0</td>\n",
       "      <td>23475.0</td>\n",
       "      <td>23475.0</td>\n",
       "      <td>NaN</td>\n",
       "      <td>1</td>\n",
       "      <td>23475.0</td>\n",
       "      <td>23475.0</td>\n",
       "    </tr>\n",
       "    <tr>\n",
       "      <th>9</th>\n",
       "      <td>nce_16</td>\n",
       "      <td>energy_fc_large_bias</td>\n",
       "      <td>adam1e-3</td>\n",
       "      <td>standard_gaussian</td>\n",
       "      <td>proposal</td>\n",
       "      <td>-16.703133</td>\n",
       "      <td>NaN</td>\n",
       "      <td>1</td>\n",
       "      <td>-16.703133</td>\n",
       "      <td>-16.703133</td>\n",
       "      <td>-3.821213</td>\n",
       "      <td>NaN</td>\n",
       "      <td>1</td>\n",
       "      <td>-3.821213</td>\n",
       "      <td>-3.821213</td>\n",
       "      <td>23475.0</td>\n",
       "      <td>NaN</td>\n",
       "      <td>1</td>\n",
       "      <td>23475.0</td>\n",
       "      <td>23475.0</td>\n",
       "      <td>23475.0</td>\n",
       "      <td>NaN</td>\n",
       "      <td>1</td>\n",
       "      <td>23475.0</td>\n",
       "      <td>23475.0</td>\n",
       "    </tr>\n",
       "    <tr>\n",
       "      <th>10</th>\n",
       "      <td>nce_32</td>\n",
       "      <td>energy_fc_large_bias</td>\n",
       "      <td>adam1e-3</td>\n",
       "      <td>standard_gaussian</td>\n",
       "      <td>proposal</td>\n",
       "      <td>-14.927718</td>\n",
       "      <td>NaN</td>\n",
       "      <td>1</td>\n",
       "      <td>-14.927718</td>\n",
       "      <td>-14.927718</td>\n",
       "      <td>-3.761209</td>\n",
       "      <td>NaN</td>\n",
       "      <td>1</td>\n",
       "      <td>-3.761209</td>\n",
       "      <td>-3.761209</td>\n",
       "      <td>23475.0</td>\n",
       "      <td>NaN</td>\n",
       "      <td>1</td>\n",
       "      <td>23475.0</td>\n",
       "      <td>23475.0</td>\n",
       "      <td>23475.0</td>\n",
       "      <td>NaN</td>\n",
       "      <td>1</td>\n",
       "      <td>23475.0</td>\n",
       "      <td>23475.0</td>\n",
       "    </tr>\n",
       "    <tr>\n",
       "      <th>11</th>\n",
       "      <td>nce_64</td>\n",
       "      <td>energy_fc_large_bias</td>\n",
       "      <td>adam1e-3</td>\n",
       "      <td>standard_gaussian</td>\n",
       "      <td>proposal</td>\n",
       "      <td>-16.947445</td>\n",
       "      <td>NaN</td>\n",
       "      <td>1</td>\n",
       "      <td>-16.947445</td>\n",
       "      <td>-16.947445</td>\n",
       "      <td>-4.319571</td>\n",
       "      <td>NaN</td>\n",
       "      <td>1</td>\n",
       "      <td>-4.319571</td>\n",
       "      <td>-4.319571</td>\n",
       "      <td>23475.0</td>\n",
       "      <td>NaN</td>\n",
       "      <td>1</td>\n",
       "      <td>23475.0</td>\n",
       "      <td>23475.0</td>\n",
       "      <td>23475.0</td>\n",
       "      <td>NaN</td>\n",
       "      <td>1</td>\n",
       "      <td>23475.0</td>\n",
       "      <td>23475.0</td>\n",
       "    </tr>\n",
       "    <tr>\n",
       "      <th>12</th>\n",
       "      <td>nce_8</td>\n",
       "      <td>energy_fc_large_bias</td>\n",
       "      <td>adam1e-3</td>\n",
       "      <td>standard_gaussian</td>\n",
       "      <td>proposal</td>\n",
       "      <td>-17.159302</td>\n",
       "      <td>NaN</td>\n",
       "      <td>1</td>\n",
       "      <td>-17.159302</td>\n",
       "      <td>-17.159302</td>\n",
       "      <td>-4.355353</td>\n",
       "      <td>NaN</td>\n",
       "      <td>1</td>\n",
       "      <td>-4.355353</td>\n",
       "      <td>-4.355353</td>\n",
       "      <td>23475.0</td>\n",
       "      <td>NaN</td>\n",
       "      <td>1</td>\n",
       "      <td>23475.0</td>\n",
       "      <td>23475.0</td>\n",
       "      <td>23475.0</td>\n",
       "      <td>NaN</td>\n",
       "      <td>1</td>\n",
       "      <td>23475.0</td>\n",
       "      <td>23475.0</td>\n",
       "    </tr>\n",
       "  </tbody>\n",
       "</table>\n",
       "</div>"
      ],
      "text/plain": [
       "   training_type               network optimizer           proposal base_dist  \\\n",
       "                                                                                \n",
       "0              1  energy_fc_large_bias  adam1e-3  standard_gaussian      None   \n",
       "1            128  energy_fc_large_bias  adam1e-3  standard_gaussian      None   \n",
       "2             16  energy_fc_large_bias  adam1e-3  standard_gaussian      None   \n",
       "3             32  energy_fc_large_bias  adam1e-3  standard_gaussian      None   \n",
       "4             64  energy_fc_large_bias  adam1e-3  standard_gaussian      None   \n",
       "5              8  energy_fc_large_bias  adam1e-3  standard_gaussian      None   \n",
       "6           None      gy_fc_large_bias  adam1e-3            uniform      None   \n",
       "7          nce_1  energy_fc_large_bias  adam1e-3  standard_gaussian  proposal   \n",
       "8        nce_128  energy_fc_large_bias  adam1e-3  standard_gaussian  proposal   \n",
       "9         nce_16  energy_fc_large_bias  adam1e-3  standard_gaussian  proposal   \n",
       "10        nce_32  energy_fc_large_bias  adam1e-3  standard_gaussian  proposal   \n",
       "11        nce_64  energy_fc_large_bias  adam1e-3  standard_gaussian  proposal   \n",
       "12         nce_8  energy_fc_large_bias  adam1e-3  standard_gaussian  proposal   \n",
       "\n",
       "   test_log_likelihood_self_normalized_mean                               \\\n",
       "                                       mean        std count         min   \n",
       "0                                 -5.361103   2.194915     2   -6.913142   \n",
       "1                                -16.374468   4.865322     4  -23.316908   \n",
       "2                                -10.457139   0.598742     4  -11.089791   \n",
       "3                                -10.655474   1.882133     4  -12.241546   \n",
       "4                                -44.089426  49.527500     4 -117.488785   \n",
       "5                                 -9.136157   1.133788     4  -10.508129   \n",
       "6                                       NaN        NaN     0         NaN   \n",
       "7                                 -9.792740   0.036653     3   -9.833609   \n",
       "8                                -19.207354        NaN     1  -19.207354   \n",
       "9                                -16.703133        NaN     1  -16.703133   \n",
       "10                               -14.927718        NaN     1  -14.927718   \n",
       "11                               -16.947445        NaN     1  -16.947445   \n",
       "12                               -17.159302        NaN     1  -17.159302   \n",
       "\n",
       "              test_log_likelihood_importance_mean                            \\\n",
       "          max                                mean       std count       min   \n",
       "0   -3.809064                           -3.556061  0.516151     2 -3.921036   \n",
       "1  -12.615180                           -3.382594  0.470624     4 -3.808747   \n",
       "2   -9.646219                           -3.668452  0.291128     4 -3.846261   \n",
       "3   -8.514983                           -3.440573  0.439623     4 -3.880140   \n",
       "4  -13.491360                           -3.657335  0.148785     4 -3.790973   \n",
       "5   -7.731316                           -3.237353  0.244236     4 -3.583544   \n",
       "6         NaN                                 NaN       NaN     0       NaN   \n",
       "7   -9.762780                           -4.494524  0.142062     3 -4.638404   \n",
       "8  -19.207354                           -3.656829       NaN     1 -3.656829   \n",
       "9  -16.703133                           -3.821213       NaN     1 -3.821213   \n",
       "10 -14.927718                           -3.761209       NaN     1 -3.761209   \n",
       "11 -16.947445                           -4.319571       NaN     1 -4.319571   \n",
       "12 -17.159302                           -4.355353       NaN     1 -4.355353   \n",
       "\n",
       "             test_log_likelihood_self_normalized_mean_last_step             \\\n",
       "         max                                               mean  std count   \n",
       "0  -3.191087                                            23475.0  0.0     2   \n",
       "1  -2.905520                                            23475.0  0.0     4   \n",
       "2  -3.233189                                            23475.0  0.0     4   \n",
       "3  -2.998684                                            23475.0  0.0     4   \n",
       "4  -3.512874                                            23475.0  0.0     4   \n",
       "5  -3.065452                                            23475.0  0.0     4   \n",
       "6        NaN                                                NaN  NaN     0   \n",
       "7  -4.354354                                            23475.0  0.0     3   \n",
       "8  -3.656829                                            23475.0  NaN     1   \n",
       "9  -3.821213                                            23475.0  NaN     1   \n",
       "10 -3.761209                                            23475.0  NaN     1   \n",
       "11 -4.319571                                            23475.0  NaN     1   \n",
       "12 -4.355353                                            23475.0  NaN     1   \n",
       "\n",
       "                     test_log_likelihood_importance_mean_last_step             \\\n",
       "        min      max                                          mean  std count   \n",
       "0   23475.0  23475.0                                       23475.0  0.0     2   \n",
       "1   23475.0  23475.0                                       23475.0  0.0     4   \n",
       "2   23475.0  23475.0                                       23475.0  0.0     4   \n",
       "3   23475.0  23475.0                                       23475.0  0.0     4   \n",
       "4   23475.0  23475.0                                       23475.0  0.0     4   \n",
       "5   23475.0  23475.0                                       23475.0  0.0     4   \n",
       "6       NaN      NaN                                           NaN  NaN     0   \n",
       "7   23475.0  23475.0                                       23475.0  0.0     3   \n",
       "8   23475.0  23475.0                                       23475.0  NaN     1   \n",
       "9   23475.0  23475.0                                       23475.0  NaN     1   \n",
       "10  23475.0  23475.0                                       23475.0  NaN     1   \n",
       "11  23475.0  23475.0                                       23475.0  NaN     1   \n",
       "12  23475.0  23475.0                                       23475.0  NaN     1   \n",
       "\n",
       "                      \n",
       "        min      max  \n",
       "0   23475.0  23475.0  \n",
       "1   23475.0  23475.0  \n",
       "2   23475.0  23475.0  \n",
       "3   23475.0  23475.0  \n",
       "4   23475.0  23475.0  \n",
       "5   23475.0  23475.0  \n",
       "6       NaN      NaN  \n",
       "7   23475.0  23475.0  \n",
       "8   23475.0  23475.0  \n",
       "9   23475.0  23475.0  \n",
       "10  23475.0  23475.0  \n",
       "11  23475.0  23475.0  \n",
       "12  23475.0  23475.0  "
      ]
     },
     "execution_count": 14,
     "metadata": {},
     "output_type": "execute_result"
    }
   ],
   "source": [
    "grouped_aux_df"
   ]
  },
  {
   "cell_type": "code",
   "execution_count": null,
   "metadata": {},
   "outputs": [],
   "source": []
  },
  {
   "cell_type": "code",
   "execution_count": null,
   "metadata": {},
   "outputs": [],
   "source": []
  },
  {
   "cell_type": "code",
   "execution_count": null,
   "metadata": {},
   "outputs": [],
   "source": []
  }
 ],
 "metadata": {
  "kernelspec": {
   "display_name": "py38",
   "language": "python",
   "name": "python3"
  },
  "language_info": {
   "codemirror_mode": {
    "name": "ipython",
    "version": 3
   },
   "file_extension": ".py",
   "mimetype": "text/x-python",
   "name": "python",
   "nbconvert_exporter": "python",
   "pygments_lexer": "ipython3",
   "version": "3.8.16"
  },
  "orig_nbformat": 4
 },
 "nbformat": 4,
 "nbformat_minor": 2
}
